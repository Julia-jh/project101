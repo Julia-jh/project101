{
 "cells": [
  {
   "cell_type": "markdown",
   "id": "31d34fa8",
   "metadata": {
    "heading_collapsed": true
   },
   "source": [
    "# 더보기"
   ]
  },
  {
   "cell_type": "code",
   "execution_count": 8,
   "id": "2bf0ec6f",
   "metadata": {
    "ExecuteTime": {
     "end_time": "2023-04-21T09:40:08.970065Z",
     "start_time": "2023-04-21T09:40:01.462086Z"
    },
    "hidden": true
   },
   "outputs": [
    {
     "name": "stdout",
     "output_type": "stream",
     "text": [
      "Collecting pymongo\n",
      "  Downloading pymongo-4.3.3-cp38-cp38-win_amd64.whl (382 kB)\n",
      "     -------------------------------------- 382.3/382.3 kB 6.0 MB/s eta 0:00:00\n",
      "Collecting dnspython<3.0.0,>=1.16.0 (from pymongo)\n",
      "  Downloading dnspython-2.3.0-py3-none-any.whl (283 kB)\n",
      "     -------------------------------------- 283.7/283.7 kB 8.8 MB/s eta 0:00:00\n",
      "Installing collected packages: dnspython, pymongo\n",
      "Successfully installed dnspython-2.3.0 pymongo-4.3.3\n"
     ]
    }
   ],
   "source": [
    "# !pip install selenium\n",
    "# !pip install webdriver_manager\n",
    "# !pip install pymongo"
   ]
  },
  {
   "cell_type": "code",
   "execution_count": 32,
   "id": "a16a75d5",
   "metadata": {
    "ExecuteTime": {
     "end_time": "2023-04-21T08:45:08.276689Z",
     "start_time": "2023-04-21T08:44:57.096206Z"
    },
    "collapsed": true,
    "hidden": true
   },
   "outputs": [
    {
     "ename": "TimeoutException",
     "evalue": "Message: \nStacktrace:\nBacktrace:\n\tGetHandleVerifier [0x00FADCE3+50899]\n\t(No symbol) [0x00F3E111]\n\t(No symbol) [0x00E45588]\n\t(No symbol) [0x00E708F9]\n\t(No symbol) [0x00E70AFB]\n\t(No symbol) [0x00E9F902]\n\t(No symbol) [0x00E8B944]\n\t(No symbol) [0x00E9E01C]\n\t(No symbol) [0x00E8B6F6]\n\t(No symbol) [0x00E67708]\n\t(No symbol) [0x00E6886D]\n\tGetHandleVerifier [0x01213EAE+2566302]\n\tGetHandleVerifier [0x012492B1+2784417]\n\tGetHandleVerifier [0x0124327C+2759788]\n\tGetHandleVerifier [0x01045740+672048]\n\t(No symbol) [0x00F48872]\n\t(No symbol) [0x00F441C8]\n\t(No symbol) [0x00F442AB]\n\t(No symbol) [0x00F371B7]\n\tBaseThreadInitThunk [0x752F0099+25]\n\tRtlGetAppContainerNamedObjectPath [0x77447B6E+286]\n\tRtlGetAppContainerNamedObjectPath [0x77447B3E+238]\n",
     "output_type": "error",
     "traceback": [
      "\u001b[1;31m---------------------------------------------------------------------------\u001b[0m",
      "\u001b[1;31mTimeoutException\u001b[0m                          Traceback (most recent call last)",
      "\u001b[1;32m<ipython-input-32-72ec7f135800>\u001b[0m in \u001b[0;36m<module>\u001b[1;34m\u001b[0m\n\u001b[0;32m     27\u001b[0m \u001b[1;33m\u001b[0m\u001b[0m\n\u001b[0;32m     28\u001b[0m \u001b[0mmore\u001b[0m \u001b[1;33m=\u001b[0m \u001b[1;34m'//*[@id=\"root\"]/div/section/div/div[8]'\u001b[0m\u001b[1;33m\u001b[0m\u001b[1;33m\u001b[0m\u001b[0m\n\u001b[1;32m---> 29\u001b[1;33m \u001b[0melement\u001b[0m \u001b[1;33m=\u001b[0m \u001b[0mWebDriverWait\u001b[0m\u001b[1;33m(\u001b[0m\u001b[0mdriver\u001b[0m\u001b[1;33m,\u001b[0m \u001b[1;36m1\u001b[0m\u001b[1;33m)\u001b[0m\u001b[1;33m.\u001b[0m\u001b[0muntil\u001b[0m\u001b[1;33m(\u001b[0m\u001b[0mEC\u001b[0m\u001b[1;33m.\u001b[0m\u001b[0mpresence_of_element_located\u001b[0m\u001b[1;33m(\u001b[0m\u001b[1;33m(\u001b[0m\u001b[0mBy\u001b[0m\u001b[1;33m.\u001b[0m\u001b[0mXPATH\u001b[0m\u001b[1;33m,\u001b[0m \u001b[0mmore\u001b[0m\u001b[1;33m)\u001b[0m\u001b[1;33m)\u001b[0m\u001b[1;33m)\u001b[0m\u001b[1;33m\u001b[0m\u001b[1;33m\u001b[0m\u001b[0m\n\u001b[0m\u001b[0;32m     30\u001b[0m \u001b[0mloc\u001b[0m \u001b[1;33m=\u001b[0m \u001b[0melement\u001b[0m\u001b[1;33m.\u001b[0m\u001b[0mlocation\u001b[0m\u001b[1;33m[\u001b[0m\u001b[1;34m'y'\u001b[0m\u001b[1;33m]\u001b[0m\u001b[1;33m\u001b[0m\u001b[1;33m\u001b[0m\u001b[0m\n\u001b[0;32m     31\u001b[0m \u001b[0mdriver\u001b[0m\u001b[1;33m.\u001b[0m\u001b[0mexecute_script\u001b[0m\u001b[1;33m(\u001b[0m\u001b[1;34mf\"window.scrollTo(0, {loc})\"\u001b[0m\u001b[1;33m)\u001b[0m\u001b[1;33m\u001b[0m\u001b[1;33m\u001b[0m\u001b[0m\n",
      "\u001b[1;32m~\\anaconda3\\lib\\site-packages\\selenium\\webdriver\\support\\wait.py\u001b[0m in \u001b[0;36muntil\u001b[1;34m(self, method, message)\u001b[0m\n\u001b[0;32m     93\u001b[0m             \u001b[1;32mif\u001b[0m \u001b[0mtime\u001b[0m\u001b[1;33m.\u001b[0m\u001b[0mmonotonic\u001b[0m\u001b[1;33m(\u001b[0m\u001b[1;33m)\u001b[0m \u001b[1;33m>\u001b[0m \u001b[0mend_time\u001b[0m\u001b[1;33m:\u001b[0m\u001b[1;33m\u001b[0m\u001b[1;33m\u001b[0m\u001b[0m\n\u001b[0;32m     94\u001b[0m                 \u001b[1;32mbreak\u001b[0m\u001b[1;33m\u001b[0m\u001b[1;33m\u001b[0m\u001b[0m\n\u001b[1;32m---> 95\u001b[1;33m         \u001b[1;32mraise\u001b[0m \u001b[0mTimeoutException\u001b[0m\u001b[1;33m(\u001b[0m\u001b[0mmessage\u001b[0m\u001b[1;33m,\u001b[0m \u001b[0mscreen\u001b[0m\u001b[1;33m,\u001b[0m \u001b[0mstacktrace\u001b[0m\u001b[1;33m)\u001b[0m\u001b[1;33m\u001b[0m\u001b[1;33m\u001b[0m\u001b[0m\n\u001b[0m\u001b[0;32m     96\u001b[0m \u001b[1;33m\u001b[0m\u001b[0m\n\u001b[0;32m     97\u001b[0m     \u001b[1;32mdef\u001b[0m \u001b[0muntil_not\u001b[0m\u001b[1;33m(\u001b[0m\u001b[0mself\u001b[0m\u001b[1;33m,\u001b[0m \u001b[0mmethod\u001b[0m\u001b[1;33m,\u001b[0m \u001b[0mmessage\u001b[0m\u001b[1;33m:\u001b[0m \u001b[0mstr\u001b[0m \u001b[1;33m=\u001b[0m \u001b[1;34m\"\"\u001b[0m\u001b[1;33m)\u001b[0m\u001b[1;33m:\u001b[0m\u001b[1;33m\u001b[0m\u001b[1;33m\u001b[0m\u001b[0m\n",
      "\u001b[1;31mTimeoutException\u001b[0m: Message: \nStacktrace:\nBacktrace:\n\tGetHandleVerifier [0x00FADCE3+50899]\n\t(No symbol) [0x00F3E111]\n\t(No symbol) [0x00E45588]\n\t(No symbol) [0x00E708F9]\n\t(No symbol) [0x00E70AFB]\n\t(No symbol) [0x00E9F902]\n\t(No symbol) [0x00E8B944]\n\t(No symbol) [0x00E9E01C]\n\t(No symbol) [0x00E8B6F6]\n\t(No symbol) [0x00E67708]\n\t(No symbol) [0x00E6886D]\n\tGetHandleVerifier [0x01213EAE+2566302]\n\tGetHandleVerifier [0x012492B1+2784417]\n\tGetHandleVerifier [0x0124327C+2759788]\n\tGetHandleVerifier [0x01045740+672048]\n\t(No symbol) [0x00F48872]\n\t(No symbol) [0x00F441C8]\n\t(No symbol) [0x00F442AB]\n\t(No symbol) [0x00F371B7]\n\tBaseThreadInitThunk [0x752F0099+25]\n\tRtlGetAppContainerNamedObjectPath [0x77447B6E+286]\n\tRtlGetAppContainerNamedObjectPath [0x77447B3E+238]\n"
     ]
    }
   ],
   "source": [
    "import time\n",
    "\n",
    "from selenium import webdriver\n",
    "from selenium.webdriver.chrome.service import Service\n",
    "\n",
    "from selenium.webdriver.support.wait import WebDriverWait\n",
    "from selenium.webdriver.support import expected_conditions as EC\n",
    "\n",
    "from selenium.webdriver.common.by import By\n",
    "from selenium.webdriver.common.keys import Keys\n",
    "\n",
    "\n",
    "\n",
    "# url to access\n",
    "url = 'https://play.google.com/store/apps/details?id=com.peopulley.qpicker.android&showAllReviews=true'\n",
    "\n",
    "# Chrome driver path\n",
    "service = Service('/path/to/chromedriver')\n",
    "\n",
    "# Chrome Open\n",
    "service.start()\n",
    "driver = webdriver.Remote(service.service_url)\n",
    "\n",
    "\n",
    "# access the url\n",
    "driver.get(url);\n",
    "\n",
    "time.sleep(3) # Let the user actually see something!\n",
    "\n",
    "more = '//*[@id=\"root\"]/div/section/div/div[8]'\n",
    "element = WebDriverWait(driver, 1).until(EC.presence_of_element_located((By.XPATH, more)))\n",
    "loc = element.location['y']\n",
    "driver.execute_script(f\"window.scrollTo(0, {loc})\")\n",
    "time.sleep(0.2)\n",
    "\n",
    "# name = driver.find_elements_by_xpath(\"//span[@class='X5PpBb']\")\n",
    "# name.text\n",
    "# len(name)\n",
    "\n",
    "# date = driver.find_elements_by_xpath(\"//span[@class='bp9Aid']\")\n",
    "# date.text\n",
    "# len(date)\n",
    "\n",
    "# star = driver.find_element_by_xpath(\"//span[@class='EGFGHd']/div[@class='Jx4nYe']/div[@role='img']\")\n",
    "# star.get_attribute('aria-label')\n",
    "\n",
    "# like = ddriver.find_element_by_xpath(\"//div[@class='AJTPZc']/span[@jsname='J0d7Yd']\")\n",
    "# like.text\n",
    "# len(like)\n",
    "\n",
    "# reviews = driver.find_element(By.XPATH, \"//span[@class='h3YV2d']\")\n",
    "# reviews.text\n",
    "# len(reviews)\n",
    "\n",
    "# quit the Chorme\n",
    "driver.quit()"
   ]
  },
  {
   "cell_type": "code",
   "execution_count": 3,
   "id": "810fe879",
   "metadata": {
    "ExecuteTime": {
     "end_time": "2023-04-25T07:49:48.332495Z",
     "start_time": "2023-04-25T07:49:45.986184Z"
    },
    "hidden": true,
    "scrolled": true
   },
   "outputs": [
    {
     "ename": "KeyboardInterrupt",
     "evalue": "",
     "output_type": "error",
     "traceback": [
      "\u001b[1;31m---------------------------------------------------------------------------\u001b[0m",
      "\u001b[1;31mKeyboardInterrupt\u001b[0m                         Traceback (most recent call last)",
      "\u001b[1;32m<ipython-input-3-c0d665d9ab40>\u001b[0m in \u001b[0;36m<module>\u001b[1;34m\u001b[0m\n\u001b[0;32m      1\u001b[0m \u001b[1;31m# Chrome Open\u001b[0m\u001b[1;33m\u001b[0m\u001b[1;33m\u001b[0m\u001b[1;33m\u001b[0m\u001b[0m\n\u001b[1;32m----> 2\u001b[1;33m \u001b[0mservice\u001b[0m\u001b[1;33m.\u001b[0m\u001b[0mstart\u001b[0m\u001b[1;33m(\u001b[0m\u001b[1;33m)\u001b[0m\u001b[1;33m\u001b[0m\u001b[1;33m\u001b[0m\u001b[0m\n\u001b[0m\u001b[0;32m      3\u001b[0m \u001b[0mdriver\u001b[0m \u001b[1;33m=\u001b[0m \u001b[0mwebdriver\u001b[0m\u001b[1;33m.\u001b[0m\u001b[0mRemote\u001b[0m\u001b[1;33m(\u001b[0m\u001b[0mservice\u001b[0m\u001b[1;33m.\u001b[0m\u001b[0mservice_url\u001b[0m\u001b[1;33m)\u001b[0m\u001b[1;33m\u001b[0m\u001b[1;33m\u001b[0m\u001b[0m\n\u001b[0;32m      4\u001b[0m \u001b[1;33m\u001b[0m\u001b[0m\n\u001b[0;32m      5\u001b[0m \u001b[1;31m# access the url\u001b[0m\u001b[1;33m\u001b[0m\u001b[1;33m\u001b[0m\u001b[1;33m\u001b[0m\u001b[0m\n",
      "\u001b[1;32m~\\anaconda3\\lib\\site-packages\\selenium\\webdriver\\common\\service.py\u001b[0m in \u001b[0;36mstart\u001b[1;34m(self)\u001b[0m\n\u001b[0;32m    105\u001b[0m         \u001b[1;32mwhile\u001b[0m \u001b[1;32mTrue\u001b[0m\u001b[1;33m:\u001b[0m\u001b[1;33m\u001b[0m\u001b[1;33m\u001b[0m\u001b[0m\n\u001b[0;32m    106\u001b[0m             \u001b[0mself\u001b[0m\u001b[1;33m.\u001b[0m\u001b[0massert_process_still_running\u001b[0m\u001b[1;33m(\u001b[0m\u001b[1;33m)\u001b[0m\u001b[1;33m\u001b[0m\u001b[1;33m\u001b[0m\u001b[0m\n\u001b[1;32m--> 107\u001b[1;33m             \u001b[1;32mif\u001b[0m \u001b[0mself\u001b[0m\u001b[1;33m.\u001b[0m\u001b[0mis_connectable\u001b[0m\u001b[1;33m(\u001b[0m\u001b[1;33m)\u001b[0m\u001b[1;33m:\u001b[0m\u001b[1;33m\u001b[0m\u001b[1;33m\u001b[0m\u001b[0m\n\u001b[0m\u001b[0;32m    108\u001b[0m                 \u001b[1;32mbreak\u001b[0m\u001b[1;33m\u001b[0m\u001b[1;33m\u001b[0m\u001b[0m\n\u001b[0;32m    109\u001b[0m \u001b[1;33m\u001b[0m\u001b[0m\n",
      "\u001b[1;32m~\\anaconda3\\lib\\site-packages\\selenium\\webdriver\\common\\service.py\u001b[0m in \u001b[0;36mis_connectable\u001b[1;34m(self)\u001b[0m\n\u001b[0;32m    122\u001b[0m         \"\"\"Establishes a socket connection to determine if the service running\n\u001b[0;32m    123\u001b[0m         on the port is accessible.\"\"\"\n\u001b[1;32m--> 124\u001b[1;33m         \u001b[1;32mreturn\u001b[0m \u001b[0mutils\u001b[0m\u001b[1;33m.\u001b[0m\u001b[0mis_connectable\u001b[0m\u001b[1;33m(\u001b[0m\u001b[0mself\u001b[0m\u001b[1;33m.\u001b[0m\u001b[0mport\u001b[0m\u001b[1;33m)\u001b[0m\u001b[1;33m\u001b[0m\u001b[1;33m\u001b[0m\u001b[0m\n\u001b[0m\u001b[0;32m    125\u001b[0m \u001b[1;33m\u001b[0m\u001b[0m\n\u001b[0;32m    126\u001b[0m     \u001b[1;32mdef\u001b[0m \u001b[0msend_remote_shutdown_command\u001b[0m\u001b[1;33m(\u001b[0m\u001b[0mself\u001b[0m\u001b[1;33m)\u001b[0m \u001b[1;33m->\u001b[0m \u001b[1;32mNone\u001b[0m\u001b[1;33m:\u001b[0m\u001b[1;33m\u001b[0m\u001b[1;33m\u001b[0m\u001b[0m\n",
      "\u001b[1;32m~\\anaconda3\\lib\\site-packages\\selenium\\webdriver\\common\\utils.py\u001b[0m in \u001b[0;36mis_connectable\u001b[1;34m(port, host)\u001b[0m\n\u001b[0;32m    100\u001b[0m     \u001b[0msocket_\u001b[0m \u001b[1;33m=\u001b[0m \u001b[1;32mNone\u001b[0m\u001b[1;33m\u001b[0m\u001b[1;33m\u001b[0m\u001b[0m\n\u001b[0;32m    101\u001b[0m     \u001b[1;32mtry\u001b[0m\u001b[1;33m:\u001b[0m\u001b[1;33m\u001b[0m\u001b[1;33m\u001b[0m\u001b[0m\n\u001b[1;32m--> 102\u001b[1;33m         \u001b[0msocket_\u001b[0m \u001b[1;33m=\u001b[0m \u001b[0msocket\u001b[0m\u001b[1;33m.\u001b[0m\u001b[0mcreate_connection\u001b[0m\u001b[1;33m(\u001b[0m\u001b[1;33m(\u001b[0m\u001b[0mhost\u001b[0m\u001b[1;33m,\u001b[0m \u001b[0mport\u001b[0m\u001b[1;33m)\u001b[0m\u001b[1;33m,\u001b[0m \u001b[1;36m1\u001b[0m\u001b[1;33m)\u001b[0m\u001b[1;33m\u001b[0m\u001b[1;33m\u001b[0m\u001b[0m\n\u001b[0m\u001b[0;32m    103\u001b[0m         \u001b[0mresult\u001b[0m \u001b[1;33m=\u001b[0m \u001b[1;32mTrue\u001b[0m\u001b[1;33m\u001b[0m\u001b[1;33m\u001b[0m\u001b[0m\n\u001b[0;32m    104\u001b[0m     \u001b[1;32mexcept\u001b[0m \u001b[0m_is_connectable_exceptions\u001b[0m\u001b[1;33m:\u001b[0m\u001b[1;33m\u001b[0m\u001b[1;33m\u001b[0m\u001b[0m\n",
      "\u001b[1;32m~\\anaconda3\\lib\\socket.py\u001b[0m in \u001b[0;36mcreate_connection\u001b[1;34m(address, timeout, source_address)\u001b[0m\n\u001b[0;32m    794\u001b[0m             \u001b[1;32mif\u001b[0m \u001b[0msource_address\u001b[0m\u001b[1;33m:\u001b[0m\u001b[1;33m\u001b[0m\u001b[1;33m\u001b[0m\u001b[0m\n\u001b[0;32m    795\u001b[0m                 \u001b[0msock\u001b[0m\u001b[1;33m.\u001b[0m\u001b[0mbind\u001b[0m\u001b[1;33m(\u001b[0m\u001b[0msource_address\u001b[0m\u001b[1;33m)\u001b[0m\u001b[1;33m\u001b[0m\u001b[1;33m\u001b[0m\u001b[0m\n\u001b[1;32m--> 796\u001b[1;33m             \u001b[0msock\u001b[0m\u001b[1;33m.\u001b[0m\u001b[0mconnect\u001b[0m\u001b[1;33m(\u001b[0m\u001b[0msa\u001b[0m\u001b[1;33m)\u001b[0m\u001b[1;33m\u001b[0m\u001b[1;33m\u001b[0m\u001b[0m\n\u001b[0m\u001b[0;32m    797\u001b[0m             \u001b[1;31m# Break explicitly a reference cycle\u001b[0m\u001b[1;33m\u001b[0m\u001b[1;33m\u001b[0m\u001b[1;33m\u001b[0m\u001b[0m\n\u001b[0;32m    798\u001b[0m             \u001b[0merr\u001b[0m \u001b[1;33m=\u001b[0m \u001b[1;32mNone\u001b[0m\u001b[1;33m\u001b[0m\u001b[1;33m\u001b[0m\u001b[0m\n",
      "\u001b[1;31mKeyboardInterrupt\u001b[0m: "
     ]
    }
   ],
   "source": [
    "# Chrome Open\n",
    "service.start()\n",
    "driver = webdriver.Remote(service.service_url)\n",
    "\n",
    "# access the url\n",
    "driver.get(url);\n",
    "driver.implicitly_wait(time_to_wait=5)\n",
    "\n",
    "more = '//*[@id=\"yDmH0d\"]/c-wiz[2]/div/div/div[1]/div[2]/div/div[1]/c-wiz[4]/section/div/div/div[5]/div/div/button/span'\n",
    "more2 = '//*[@id=\"yDmH0d\"]/div[4]/div[2]/div/div/div/div'\n",
    "\n",
    "driver.find_element(By.XPATH, more).click()\n",
    "driver.implicitly_wait(time_to_wait=5)\n",
    "\n",
    "driver.find_element(By.XPATH, more2).click()\n",
    "driver.implicitly_wait(time_to_wait=5)\n",
    "\n",
    "nm = '//*[@id=\"yDmH0d\"]/div[4]/div[2]/div/div/div/div/div[2]/div/div[1]/div[1]/header/div[1]/div[1]/div'\n",
    "st = '//*[@id=\"yDmH0d\"]/div[4]/div[2]/div/div/div/div/div[2]/div/div[1]/div[1]/header/div[2]/div'\n",
    "dt = '//*[@id=\"yDmH0d\"]/div[4]/div[2]/div/div/div/div/div[2]/div/div[1]/div[1]/header/div[2]/span'\n",
    "re = '//*[@id=\"yDmH0d\"]/div[4]/div[2]/div/div/div/div/div[2]/div/div[1]/div[1]/div[1]'\n",
    "\n",
    "name = WebDriverWait(driver, 5).until(EC.presence_of_element_located\n",
    "                                      ((By.XPATH, nm))).text\n",
    "\n",
    "star = WebDriverWait(driver, 5).until(EC.presence_of_element_located\n",
    "                                      ((By.XPATH, st))).text\n",
    "\n",
    "date = WebDriverWait(driver, 5).until(EC.presence_of_element_located\n",
    "                                      ((By.XPATH, dt))).text\n",
    "\n",
    "review = WebDriverWait(driver, 5).until(EC.presence_of_element_located\n",
    "                                      ((By.XPATH, re))).text\n",
    "\n",
    "\n",
    "print(name)\n",
    "print(star)\n",
    "print(date)\n",
    "print(review)\n",
    "\n",
    "driver.quit()"
   ]
  },
  {
   "cell_type": "markdown",
   "id": "954c428f",
   "metadata": {},
   "source": [
    "# Library"
   ]
  },
  {
   "cell_type": "code",
   "execution_count": 2,
   "id": "69098d39",
   "metadata": {
    "ExecuteTime": {
     "end_time": "2023-04-27T04:19:28.398135Z",
     "start_time": "2023-04-27T04:19:19.510022Z"
    }
   },
   "outputs": [],
   "source": [
    "import os\n",
    "import sys\n",
    "import re\n",
    "\n",
    "import time\n",
    "import selenium\n",
    "from selenium import webdriver\n",
    "from selenium.webdriver.chrome.service import Service\n",
    "from selenium.webdriver import ActionChains\n",
    "\n",
    "from selenium.webdriver.common.by import By\n",
    "from selenium.webdriver.common.keys import Keys\n",
    "\n",
    "from selenium.webdriver.support.wait import WebDriverWait\n",
    "from selenium.webdriver.support import expected_conditions as EC\n",
    "from selenium.webdriver.support.ui import Select\n",
    "\n",
    "\n",
    "import pandas as pd\n",
    "import numpy as np\n",
    "import matplotlib.pyplot as plt\n",
    "import seaborn as sns\n",
    "from pymongo import MongoClient"
   ]
  },
  {
   "cell_type": "code",
   "execution_count": 3,
   "id": "2134c681",
   "metadata": {
    "ExecuteTime": {
     "end_time": "2023-04-27T04:19:28.413143Z",
     "start_time": "2023-04-27T04:19:28.401129Z"
    }
   },
   "outputs": [],
   "source": [
    "# Chrome driver path\n",
    "service = Service('/path/to/chromedriver')\n",
    "\n",
    "# url to access\n",
    "url = 'https://play.google.com/store/apps/details?id=com.peopulley.qpicker.android&showAllReviews=true'"
   ]
  },
  {
   "cell_type": "code",
   "execution_count": 4,
   "id": "7f7acdf8",
   "metadata": {
    "ExecuteTime": {
     "end_time": "2023-04-27T04:21:11.719279Z",
     "start_time": "2023-04-27T04:19:28.417129Z"
    }
   },
   "outputs": [
    {
     "name": "stdout",
     "output_type": "stream",
     "text": [
      "108\n"
     ]
    }
   ],
   "source": [
    "# Chrome Open\n",
    "service.start()\n",
    "driver = webdriver.Remote(service.service_url)\n",
    "\n",
    "# access the url\n",
    "driver.get(url);\n",
    "driver.implicitly_wait(time_to_wait=5)\n",
    "driver.save_screenshot('open_browser.png')\n",
    "\n",
    "more = '//*[@id=\"yDmH0d\"]/c-wiz[2]/div/div/div[1]/div[2]/div/div[1]/c-wiz[4]/section/div/div/div[5]/div/div/button/span'\n",
    "more2 = '//*[@id=\"yDmH0d\"]/div[4]/div[2]/div/div/div/div'\n",
    "\n",
    "driver.find_element(By.XPATH, more).click()\n",
    "driver.implicitly_wait(time_to_wait=5)\n",
    "\n",
    "driver.find_element(By.XPATH, more2).click()\n",
    "driver.implicitly_wait(time_to_wait=5)\n",
    "\n",
    "driver.save_screenshot('click_more_butten.png')\n",
    "\n",
    "body = driver.find_element(By.CSS_SELECTOR, 'body')\n",
    "\n",
    "nm = 'X5PpBb'\n",
    "st = 'iXRFPc'\n",
    "dt = 'bp9Aid'\n",
    "re = 'h3YV2d'\n",
    "hp = 'AJTPZc'\n",
    "\n",
    "for _ in range(5):\n",
    "    name = driver.find_elements(By.CLASS_NAME, nm)\n",
    "    star = driver.find_elements(By.CLASS_NAME, st)\n",
    "    date = driver.find_elements(By.CLASS_NAME, dt)\n",
    "    review = driver.find_elements(By.CLASS_NAME, re)\n",
    "    helpful = driver.find_elements(By.CLASS_NAME, hp)\n",
    "    \n",
    "    a = 'pagedown' + str(_) + '.png'\n",
    "    driver.save_screenshot(a)\n",
    "    \n",
    "    for i in range(20):\n",
    "        body.send_keys(Keys.PAGE_DOWN)\n",
    "        time.sleep(0.1)\n",
    "    time.sleep(2)\n",
    "    \n",
    "    \n",
    "print(len(star))\n",
    "\n",
    "# tmp = []\n",
    "\n",
    "# for n, s, d, r, h in zip(name, star, date, review, helpful):\n",
    "#     tmp.append([n.text, s.get_attribute('aria-label'), d.text, r.text, h.text])\n",
    "    \n",
    "# driver.quit()"
   ]
  },
  {
   "cell_type": "code",
   "execution_count": 5,
   "id": "9cb84b6d",
   "metadata": {
    "ExecuteTime": {
     "end_time": "2023-04-27T04:21:11.736284Z",
     "start_time": "2023-04-27T04:21:11.726277Z"
    }
   },
   "outputs": [],
   "source": [
    "# df = pd.DataFrame(tmp, columns = [\n",
    "#     'useres',\n",
    "#     'stars',\n",
    "#     'date',\n",
    "#     'review',\n",
    "#     'helpful'\n",
    "# ])\n",
    "\n",
    "# df"
   ]
  },
  {
   "cell_type": "code",
   "execution_count": 6,
   "id": "a98de587",
   "metadata": {
    "ExecuteTime": {
     "end_time": "2023-04-27T04:21:23.283512Z",
     "start_time": "2023-04-27T04:21:11.741275Z"
    }
   },
   "outputs": [],
   "source": [
    "tmp = []\n",
    "\n",
    "for n, s, d, r in zip(name, star, date, review):\n",
    "    tmp.append([n.text, s.get_attribute('aria-label'), d.text, r.text])\n",
    "    "
   ]
  },
  {
   "cell_type": "code",
   "execution_count": 7,
   "id": "9b25aae0",
   "metadata": {
    "ExecuteTime": {
     "end_time": "2023-04-27T04:21:23.360482Z",
     "start_time": "2023-04-27T04:21:23.286485Z"
    }
   },
   "outputs": [
    {
     "data": {
      "text/html": [
       "<div>\n",
       "<style scoped>\n",
       "    .dataframe tbody tr th:only-of-type {\n",
       "        vertical-align: middle;\n",
       "    }\n",
       "\n",
       "    .dataframe tbody tr th {\n",
       "        vertical-align: top;\n",
       "    }\n",
       "\n",
       "    .dataframe thead th {\n",
       "        text-align: right;\n",
       "    }\n",
       "</style>\n",
       "<table border=\"1\" class=\"dataframe\">\n",
       "  <thead>\n",
       "    <tr style=\"text-align: right;\">\n",
       "      <th></th>\n",
       "      <th>useres</th>\n",
       "      <th>stars</th>\n",
       "      <th>date</th>\n",
       "      <th>review</th>\n",
       "    </tr>\n",
       "  </thead>\n",
       "  <tbody>\n",
       "    <tr>\n",
       "      <th>0</th>\n",
       "      <td></td>\n",
       "      <td>별표 5개 만점에 5개를 받았습니다.</td>\n",
       "      <td></td>\n",
       "      <td></td>\n",
       "    </tr>\n",
       "    <tr>\n",
       "      <th>1</th>\n",
       "      <td></td>\n",
       "      <td>별표 5개 만점에 5개를 받았습니다.</td>\n",
       "      <td></td>\n",
       "      <td>이전에 초현실주의자들 전시 오디오가이드를 큐피커로 이용했었는데요, 당시 전시 초반이...</td>\n",
       "    </tr>\n",
       "    <tr>\n",
       "      <th>2</th>\n",
       "      <td>MINGOO KIM</td>\n",
       "      <td>별표 5개 만점에 3개를 받았습니다.</td>\n",
       "      <td>2022년 12월 21일</td>\n",
       "      <td>결제 오류가 있었고, 메일이 스팸함으로 분류되어 해결 못했었지만, 끝까지 해결해주셔...</td>\n",
       "    </tr>\n",
       "    <tr>\n",
       "      <th>3</th>\n",
       "      <td>Google 사용자</td>\n",
       "      <td>별표 5개 만점에 5개를 받았습니다.</td>\n",
       "      <td>2019년 11월 27일</td>\n",
       "      <td>예술에 문외한이라 설명 없이 작품 보기 힘든데, 정말 좋은 어플인 것 같아요! 더 ...</td>\n",
       "    </tr>\n",
       "    <tr>\n",
       "      <th>4</th>\n",
       "      <td>양찬주</td>\n",
       "      <td>별표 5개 만점에 5개를 받았습니다.</td>\n",
       "      <td>2022년 3월 1일</td>\n",
       "      <td>이전에 초현실주의자들 전시 오디오가이드를 큐피커로 이용했었는데요, 당시 전시 초반이...</td>\n",
       "    </tr>\n",
       "    <tr>\n",
       "      <th>...</th>\n",
       "      <td>...</td>\n",
       "      <td>...</td>\n",
       "      <td>...</td>\n",
       "      <td>...</td>\n",
       "    </tr>\n",
       "    <tr>\n",
       "      <th>103</th>\n",
       "      <td>박선화</td>\n",
       "      <td>별표 5개 만점에 5개를 받았습니다.</td>\n",
       "      <td>2022년 6월 26일</td>\n",
       "      <td>넘 좋아요</td>\n",
       "    </tr>\n",
       "    <tr>\n",
       "      <th>104</th>\n",
       "      <td>연제광</td>\n",
       "      <td>별표 5개 만점에 1개를 받았습니다.</td>\n",
       "      <td>2022년 2월 8일</td>\n",
       "      <td>어플이아주</td>\n",
       "    </tr>\n",
       "    <tr>\n",
       "      <th>105</th>\n",
       "      <td>Google 사용자</td>\n",
       "      <td>별표 5개 만점에 5개를 받았습니다.</td>\n",
       "      <td>2020년 2월 27일</td>\n",
       "      <td>좋아요</td>\n",
       "    </tr>\n",
       "    <tr>\n",
       "      <th>106</th>\n",
       "      <td>슈걸tv</td>\n",
       "      <td>별표 5개 만점에 5개를 받았습니다.</td>\n",
       "      <td>2021년 8월 8일</td>\n",
       "      <td>좋아요</td>\n",
       "    </tr>\n",
       "    <tr>\n",
       "      <th>107</th>\n",
       "      <td>Google 사용자</td>\n",
       "      <td>별표 5개 만점에 5개를 받았습니다.</td>\n",
       "      <td>2019년 11월 25일</td>\n",
       "      <td>조와요😁</td>\n",
       "    </tr>\n",
       "  </tbody>\n",
       "</table>\n",
       "<p>108 rows × 4 columns</p>\n",
       "</div>"
      ],
      "text/plain": [
       "         useres                 stars           date  \\\n",
       "0                별표 5개 만점에 5개를 받았습니다.                  \n",
       "1                별표 5개 만점에 5개를 받았습니다.                  \n",
       "2    MINGOO KIM  별표 5개 만점에 3개를 받았습니다.  2022년 12월 21일   \n",
       "3    Google 사용자  별표 5개 만점에 5개를 받았습니다.  2019년 11월 27일   \n",
       "4           양찬주  별표 5개 만점에 5개를 받았습니다.    2022년 3월 1일   \n",
       "..          ...                   ...            ...   \n",
       "103         박선화  별표 5개 만점에 5개를 받았습니다.   2022년 6월 26일   \n",
       "104         연제광  별표 5개 만점에 1개를 받았습니다.    2022년 2월 8일   \n",
       "105  Google 사용자  별표 5개 만점에 5개를 받았습니다.   2020년 2월 27일   \n",
       "106        슈걸tv  별표 5개 만점에 5개를 받았습니다.    2021년 8월 8일   \n",
       "107  Google 사용자  별표 5개 만점에 5개를 받았습니다.  2019년 11월 25일   \n",
       "\n",
       "                                                review  \n",
       "0                                                       \n",
       "1    이전에 초현실주의자들 전시 오디오가이드를 큐피커로 이용했었는데요, 당시 전시 초반이...  \n",
       "2    결제 오류가 있었고, 메일이 스팸함으로 분류되어 해결 못했었지만, 끝까지 해결해주셔...  \n",
       "3    예술에 문외한이라 설명 없이 작품 보기 힘든데, 정말 좋은 어플인 것 같아요! 더 ...  \n",
       "4    이전에 초현실주의자들 전시 오디오가이드를 큐피커로 이용했었는데요, 당시 전시 초반이...  \n",
       "..                                                 ...  \n",
       "103                                              넘 좋아요  \n",
       "104                                              어플이아주  \n",
       "105                                                좋아요  \n",
       "106                                                좋아요  \n",
       "107                                               조와요😁  \n",
       "\n",
       "[108 rows x 4 columns]"
      ]
     },
     "execution_count": 7,
     "metadata": {},
     "output_type": "execute_result"
    }
   ],
   "source": [
    "df = pd.DataFrame(tmp, columns = [\n",
    "    'useres',\n",
    "    'stars',\n",
    "    'date',\n",
    "    'review',\n",
    "])\n",
    "\n",
    "df"
   ]
  },
  {
   "cell_type": "code",
   "execution_count": 8,
   "id": "473a8371",
   "metadata": {
    "ExecuteTime": {
     "end_time": "2023-04-27T04:21:23.376483Z",
     "start_time": "2023-04-27T04:21:23.363484Z"
    }
   },
   "outputs": [],
   "source": [
    "df.drop(index = [0, 1], axis = 0, inplace = True)\n",
    "df.reset_index(drop = True, inplace = True)"
   ]
  },
  {
   "cell_type": "code",
   "execution_count": 9,
   "id": "18e57508",
   "metadata": {
    "ExecuteTime": {
     "end_time": "2023-04-27T04:21:23.439491Z",
     "start_time": "2023-04-27T04:21:23.384487Z"
    },
    "scrolled": false
   },
   "outputs": [
    {
     "data": {
      "text/html": [
       "<div>\n",
       "<style scoped>\n",
       "    .dataframe tbody tr th:only-of-type {\n",
       "        vertical-align: middle;\n",
       "    }\n",
       "\n",
       "    .dataframe tbody tr th {\n",
       "        vertical-align: top;\n",
       "    }\n",
       "\n",
       "    .dataframe thead th {\n",
       "        text-align: right;\n",
       "    }\n",
       "</style>\n",
       "<table border=\"1\" class=\"dataframe\">\n",
       "  <thead>\n",
       "    <tr style=\"text-align: right;\">\n",
       "      <th></th>\n",
       "      <th>useres</th>\n",
       "      <th>stars</th>\n",
       "      <th>date</th>\n",
       "      <th>review</th>\n",
       "    </tr>\n",
       "  </thead>\n",
       "  <tbody>\n",
       "    <tr>\n",
       "      <th>0</th>\n",
       "      <td>MINGOO KIM</td>\n",
       "      <td>별표 5개 만점에 3개를 받았습니다.</td>\n",
       "      <td>2022년 12월 21일</td>\n",
       "      <td>결제 오류가 있었고, 메일이 스팸함으로 분류되어 해결 못했었지만, 끝까지 해결해주셔...</td>\n",
       "    </tr>\n",
       "    <tr>\n",
       "      <th>1</th>\n",
       "      <td>Google 사용자</td>\n",
       "      <td>별표 5개 만점에 5개를 받았습니다.</td>\n",
       "      <td>2019년 11월 27일</td>\n",
       "      <td>예술에 문외한이라 설명 없이 작품 보기 힘든데, 정말 좋은 어플인 것 같아요! 더 ...</td>\n",
       "    </tr>\n",
       "    <tr>\n",
       "      <th>2</th>\n",
       "      <td>양찬주</td>\n",
       "      <td>별표 5개 만점에 5개를 받았습니다.</td>\n",
       "      <td>2022년 3월 1일</td>\n",
       "      <td>이전에 초현실주의자들 전시 오디오가이드를 큐피커로 이용했었는데요, 당시 전시 초반이...</td>\n",
       "    </tr>\n",
       "    <tr>\n",
       "      <th>3</th>\n",
       "      <td>MINGOO KIM</td>\n",
       "      <td>별표 5개 만점에 3개를 받았습니다.</td>\n",
       "      <td>2022년 12월 21일</td>\n",
       "      <td>결제 오류가 있었고, 메일이 스팸함으로 분류되어 해결 못했었지만, 끝까지 해결해주셔...</td>\n",
       "    </tr>\n",
       "    <tr>\n",
       "      <th>4</th>\n",
       "      <td>Hyeihn Jeon</td>\n",
       "      <td>별표 5개 만점에 4개를 받았습니다.</td>\n",
       "      <td>2022년 2월 22일</td>\n",
       "      <td>큐피커 앱을 알게 되고 잘 사용하고 있습니다. 전시 설명 뿐 아니라 주제를 정해 올...</td>\n",
       "    </tr>\n",
       "  </tbody>\n",
       "</table>\n",
       "</div>"
      ],
      "text/plain": [
       "        useres                 stars           date  \\\n",
       "0   MINGOO KIM  별표 5개 만점에 3개를 받았습니다.  2022년 12월 21일   \n",
       "1   Google 사용자  별표 5개 만점에 5개를 받았습니다.  2019년 11월 27일   \n",
       "2          양찬주  별표 5개 만점에 5개를 받았습니다.    2022년 3월 1일   \n",
       "3   MINGOO KIM  별표 5개 만점에 3개를 받았습니다.  2022년 12월 21일   \n",
       "4  Hyeihn Jeon  별표 5개 만점에 4개를 받았습니다.   2022년 2월 22일   \n",
       "\n",
       "                                              review  \n",
       "0  결제 오류가 있었고, 메일이 스팸함으로 분류되어 해결 못했었지만, 끝까지 해결해주셔...  \n",
       "1  예술에 문외한이라 설명 없이 작품 보기 힘든데, 정말 좋은 어플인 것 같아요! 더 ...  \n",
       "2  이전에 초현실주의자들 전시 오디오가이드를 큐피커로 이용했었는데요, 당시 전시 초반이...  \n",
       "3  결제 오류가 있었고, 메일이 스팸함으로 분류되어 해결 못했었지만, 끝까지 해결해주셔...  \n",
       "4  큐피커 앱을 알게 되고 잘 사용하고 있습니다. 전시 설명 뿐 아니라 주제를 정해 올...  "
      ]
     },
     "execution_count": 9,
     "metadata": {},
     "output_type": "execute_result"
    }
   ],
   "source": [
    "df.head()"
   ]
  },
  {
   "cell_type": "code",
   "execution_count": 10,
   "id": "30cf99b7",
   "metadata": {
    "ExecuteTime": {
     "end_time": "2023-04-27T04:21:23.470487Z",
     "start_time": "2023-04-27T04:21:23.448490Z"
    }
   },
   "outputs": [],
   "source": [
    "df['stars'] = list(map(lambda x: x[10:11], df['stars']))"
   ]
  },
  {
   "cell_type": "code",
   "execution_count": 11,
   "id": "baa13342",
   "metadata": {
    "ExecuteTime": {
     "end_time": "2023-04-27T04:21:23.501487Z",
     "start_time": "2023-04-27T04:21:23.473501Z"
    }
   },
   "outputs": [
    {
     "data": {
      "text/plain": [
       "useres    object\n",
       "stars      int32\n",
       "date      object\n",
       "review    object\n",
       "dtype: object"
      ]
     },
     "execution_count": 11,
     "metadata": {},
     "output_type": "execute_result"
    }
   ],
   "source": [
    "df['stars'] = df['stars'].astype('int')\n",
    "df.dtypes"
   ]
  },
  {
   "cell_type": "code",
   "execution_count": 12,
   "id": "c7c967d1",
   "metadata": {
    "ExecuteTime": {
     "end_time": "2023-04-27T04:21:23.596672Z",
     "start_time": "2023-04-27T04:21:23.506491Z"
    },
    "scrolled": true
   },
   "outputs": [
    {
     "name": "stdout",
     "output_type": "stream",
     "text": [
      "<class 'pandas.core.frame.DataFrame'>\n",
      "RangeIndex: 106 entries, 0 to 105\n",
      "Data columns (total 4 columns):\n",
      " #   Column  Non-Null Count  Dtype \n",
      "---  ------  --------------  ----- \n",
      " 0   useres  106 non-null    object\n",
      " 1   stars   106 non-null    int32 \n",
      " 2   date    106 non-null    object\n",
      " 3   review  106 non-null    object\n",
      "dtypes: int32(1), object(3)\n",
      "memory usage: 3.0+ KB\n"
     ]
    }
   ],
   "source": [
    "df.info()"
   ]
  },
  {
   "cell_type": "code",
   "execution_count": 13,
   "id": "3c76f936",
   "metadata": {
    "ExecuteTime": {
     "end_time": "2023-04-27T04:21:23.706615Z",
     "start_time": "2023-04-27T04:21:23.629041Z"
    }
   },
   "outputs": [
    {
     "name": "stdout",
     "output_type": "stream",
     "text": [
      "전체 갯수: 106개\n",
      "\n",
      "\n",
      "종류 별 갯수\n",
      "1    24\n",
      "2     4\n",
      "3     5\n",
      "4     3\n",
      "5    70\n",
      "Name: stars, dtype: int64\n"
     ]
    }
   ],
   "source": [
    "count = df['stars'].count()\n",
    "kind_count = df['stars'].value_counts().sort_index()\n",
    "\n",
    "print('전체 갯수: {}개'.format(count))\n",
    "print('\\n')\n",
    "print('종류 별 갯수\\n{}'.format(kind_count))"
   ]
  },
  {
   "cell_type": "code",
   "execution_count": 14,
   "id": "55af8fb8",
   "metadata": {
    "ExecuteTime": {
     "end_time": "2023-04-27T04:21:24.372969Z",
     "start_time": "2023-04-27T04:21:23.713552Z"
    },
    "scrolled": true
   },
   "outputs": [],
   "source": [
    "a = df['stars'].describe()\n",
    "b = df[df['stars'] != 1].describe()\n",
    "c = df[df['stars'] != 2].describe()\n",
    "d = df[df['stars'] != 3].describe()\n",
    "e = df[df['stars'] != 4].describe()\n",
    "f = df[df['stars'] != 5].describe()\n",
    "g = df[(df['stars'] == 1)|(df['stars'] == 5)].describe()\n",
    "h = df[(df['stars'] != 1)&(df['stars'] != 5)].describe()"
   ]
  },
  {
   "cell_type": "code",
   "execution_count": 17,
   "id": "242c3235",
   "metadata": {
    "ExecuteTime": {
     "end_time": "2023-04-27T04:21:59.799825Z",
     "start_time": "2023-04-27T04:21:59.791317Z"
    }
   },
   "outputs": [],
   "source": [
    "df_des = pd.concat([a, b, c, d, e, f, g, h], axis = 1)"
   ]
  },
  {
   "cell_type": "code",
   "execution_count": 18,
   "id": "920dde7a",
   "metadata": {
    "ExecuteTime": {
     "end_time": "2023-04-27T04:22:00.360883Z",
     "start_time": "2023-04-27T04:22:00.342798Z"
    }
   },
   "outputs": [],
   "source": [
    "df_des.columns = ['origins', 'not 1', 'not 2', 'not 3', 'not 4', 'not 5', 'both 1, 5', '2, 3, 4']"
   ]
  },
  {
   "cell_type": "code",
   "execution_count": 19,
   "id": "e5e88e8f",
   "metadata": {
    "ExecuteTime": {
     "end_time": "2023-04-27T04:22:01.045872Z",
     "start_time": "2023-04-27T04:22:01.005838Z"
    },
    "scrolled": true
   },
   "outputs": [
    {
     "data": {
      "text/html": [
       "<div>\n",
       "<style scoped>\n",
       "    .dataframe tbody tr th:only-of-type {\n",
       "        vertical-align: middle;\n",
       "    }\n",
       "\n",
       "    .dataframe tbody tr th {\n",
       "        vertical-align: top;\n",
       "    }\n",
       "\n",
       "    .dataframe thead th {\n",
       "        text-align: right;\n",
       "    }\n",
       "</style>\n",
       "<table border=\"1\" class=\"dataframe\">\n",
       "  <thead>\n",
       "    <tr style=\"text-align: right;\">\n",
       "      <th></th>\n",
       "      <th>origins</th>\n",
       "      <th>not 1</th>\n",
       "      <th>not 2</th>\n",
       "      <th>not 3</th>\n",
       "      <th>not 4</th>\n",
       "      <th>not 5</th>\n",
       "      <th>both 1, 5</th>\n",
       "      <th>2, 3, 4</th>\n",
       "    </tr>\n",
       "  </thead>\n",
       "  <tbody>\n",
       "    <tr>\n",
       "      <th>count</th>\n",
       "      <td>106.000000</td>\n",
       "      <td>82.000000</td>\n",
       "      <td>102.000000</td>\n",
       "      <td>101.000000</td>\n",
       "      <td>103.000000</td>\n",
       "      <td>36.000000</td>\n",
       "      <td>94.000000</td>\n",
       "      <td>12.000000</td>\n",
       "    </tr>\n",
       "    <tr>\n",
       "      <th>mean</th>\n",
       "      <td>3.858491</td>\n",
       "      <td>4.695122</td>\n",
       "      <td>3.931373</td>\n",
       "      <td>3.900990</td>\n",
       "      <td>3.854369</td>\n",
       "      <td>1.638889</td>\n",
       "      <td>3.978723</td>\n",
       "      <td>2.916667</td>\n",
       "    </tr>\n",
       "    <tr>\n",
       "      <th>std</th>\n",
       "      <td>1.703994</td>\n",
       "      <td>0.796428</td>\n",
       "      <td>1.696005</td>\n",
       "      <td>1.734964</td>\n",
       "      <td>1.728695</td>\n",
       "      <td>1.018480</td>\n",
       "      <td>1.753514</td>\n",
       "      <td>0.792961</td>\n",
       "    </tr>\n",
       "    <tr>\n",
       "      <th>min</th>\n",
       "      <td>1.000000</td>\n",
       "      <td>2.000000</td>\n",
       "      <td>1.000000</td>\n",
       "      <td>1.000000</td>\n",
       "      <td>1.000000</td>\n",
       "      <td>1.000000</td>\n",
       "      <td>1.000000</td>\n",
       "      <td>2.000000</td>\n",
       "    </tr>\n",
       "    <tr>\n",
       "      <th>25%</th>\n",
       "      <td>2.000000</td>\n",
       "      <td>5.000000</td>\n",
       "      <td>3.000000</td>\n",
       "      <td>2.000000</td>\n",
       "      <td>2.000000</td>\n",
       "      <td>1.000000</td>\n",
       "      <td>2.000000</td>\n",
       "      <td>2.000000</td>\n",
       "    </tr>\n",
       "    <tr>\n",
       "      <th>50%</th>\n",
       "      <td>5.000000</td>\n",
       "      <td>5.000000</td>\n",
       "      <td>5.000000</td>\n",
       "      <td>5.000000</td>\n",
       "      <td>5.000000</td>\n",
       "      <td>1.000000</td>\n",
       "      <td>5.000000</td>\n",
       "      <td>3.000000</td>\n",
       "    </tr>\n",
       "    <tr>\n",
       "      <th>75%</th>\n",
       "      <td>5.000000</td>\n",
       "      <td>5.000000</td>\n",
       "      <td>5.000000</td>\n",
       "      <td>5.000000</td>\n",
       "      <td>5.000000</td>\n",
       "      <td>2.000000</td>\n",
       "      <td>5.000000</td>\n",
       "      <td>3.250000</td>\n",
       "    </tr>\n",
       "    <tr>\n",
       "      <th>max</th>\n",
       "      <td>5.000000</td>\n",
       "      <td>5.000000</td>\n",
       "      <td>5.000000</td>\n",
       "      <td>5.000000</td>\n",
       "      <td>5.000000</td>\n",
       "      <td>4.000000</td>\n",
       "      <td>5.000000</td>\n",
       "      <td>4.000000</td>\n",
       "    </tr>\n",
       "  </tbody>\n",
       "</table>\n",
       "</div>"
      ],
      "text/plain": [
       "          origins      not 1       not 2       not 3       not 4      not 5  \\\n",
       "count  106.000000  82.000000  102.000000  101.000000  103.000000  36.000000   \n",
       "mean     3.858491   4.695122    3.931373    3.900990    3.854369   1.638889   \n",
       "std      1.703994   0.796428    1.696005    1.734964    1.728695   1.018480   \n",
       "min      1.000000   2.000000    1.000000    1.000000    1.000000   1.000000   \n",
       "25%      2.000000   5.000000    3.000000    2.000000    2.000000   1.000000   \n",
       "50%      5.000000   5.000000    5.000000    5.000000    5.000000   1.000000   \n",
       "75%      5.000000   5.000000    5.000000    5.000000    5.000000   2.000000   \n",
       "max      5.000000   5.000000    5.000000    5.000000    5.000000   4.000000   \n",
       "\n",
       "       both 1, 5    2, 3, 4  \n",
       "count  94.000000  12.000000  \n",
       "mean    3.978723   2.916667  \n",
       "std     1.753514   0.792961  \n",
       "min     1.000000   2.000000  \n",
       "25%     2.000000   2.000000  \n",
       "50%     5.000000   3.000000  \n",
       "75%     5.000000   3.250000  \n",
       "max     5.000000   4.000000  "
      ]
     },
     "execution_count": 19,
     "metadata": {},
     "output_type": "execute_result"
    }
   ],
   "source": [
    "df_des"
   ]
  },
  {
   "cell_type": "markdown",
   "id": "889c07db",
   "metadata": {},
   "source": [
    "# 전체 별점을 사용할 때와, 특정 별점을 제외한 값일 때의 별점 중 어떤 것이 더 유의미한 결과일까?"
   ]
  },
  {
   "cell_type": "markdown",
   "id": "f2d7a8ab",
   "metadata": {},
   "source": [
    "모든 리뷰의 평점을 활용하는 것이 대표성을 가질까?  \n",
    "결국 어플 평점은 어플에 대한 신뢰성 혹은 경쟁 어플의 대체제를 나타낸다.  \n",
    "그러나 다운로드 수 대비 리뷰 수 혹은 리뷰 자체의 좋아요 수 등 어플 리뷰의 신뢰성에 영향을 미치는 다른 요소가 충분히 많다.  "
   ]
  },
  {
   "cell_type": "markdown",
   "id": "e23b7d0d",
   "metadata": {
    "heading_collapsed": true
   },
   "source": [
    "# ! ver.2에서 신경쓸 내용\n",
    "1. 날짜 데이터 년, 월, 일 을 -로 바꾸고, 데이터 타입을 datetime으로 바꾸기\n",
    "2. helpful 데이터에 결손이 있으므로, find_elements가 아니라, find_element로 모든 요소를 순차적으로 긁어오기\n",
    "3. stars 데이터에 정수가 아닌 경우가 있을 수 있으므로 정규식을 이용하여 숫자만 남기고, 맨 앞의 5를 지우는 방식을 사용하기\n",
    "4. review 데이터를 이용한 텍스트 분석 수행하기"
   ]
  },
  {
   "cell_type": "code",
   "execution_count": 16,
   "id": "376d8fe7",
   "metadata": {
    "ExecuteTime": {
     "end_time": "2023-04-26T08:47:56.491703Z",
     "start_time": "2023-04-26T08:47:56.416402Z"
    },
    "hidden": true
   },
   "outputs": [
    {
     "data": {
      "text/html": [
       "<div>\n",
       "<style scoped>\n",
       "    .dataframe tbody tr th:only-of-type {\n",
       "        vertical-align: middle;\n",
       "    }\n",
       "\n",
       "    .dataframe tbody tr th {\n",
       "        vertical-align: top;\n",
       "    }\n",
       "\n",
       "    .dataframe thead th {\n",
       "        text-align: right;\n",
       "    }\n",
       "</style>\n",
       "<table border=\"1\" class=\"dataframe\">\n",
       "  <thead>\n",
       "    <tr style=\"text-align: right;\">\n",
       "      <th></th>\n",
       "      <th>useres</th>\n",
       "      <th>stars</th>\n",
       "      <th>date</th>\n",
       "      <th>review</th>\n",
       "    </tr>\n",
       "  </thead>\n",
       "  <tbody>\n",
       "    <tr>\n",
       "      <th>0</th>\n",
       "      <td>MINGOO KIM</td>\n",
       "      <td>3</td>\n",
       "      <td>2022년 12월 21일</td>\n",
       "      <td>결제 오류가 있었고, 메일이 스팸함으로 분류되어 해결 못했었지만, 끝까지 해결해주셔...</td>\n",
       "    </tr>\n",
       "    <tr>\n",
       "      <th>1</th>\n",
       "      <td>Google 사용자</td>\n",
       "      <td>5</td>\n",
       "      <td>2019년 11월 27일</td>\n",
       "      <td>예술에 문외한이라 설명 없이 작품 보기 힘든데, 정말 좋은 어플인 것 같아요! 더 ...</td>\n",
       "    </tr>\n",
       "    <tr>\n",
       "      <th>2</th>\n",
       "      <td>양찬주</td>\n",
       "      <td>5</td>\n",
       "      <td>2022년 3월 1일</td>\n",
       "      <td>이전에 초현실주의자들 전시 오디오가이드를 큐피커로 이용했었는데요, 당시 전시 초반이...</td>\n",
       "    </tr>\n",
       "    <tr>\n",
       "      <th>3</th>\n",
       "      <td>MINGOO KIM</td>\n",
       "      <td>3</td>\n",
       "      <td>2022년 12월 21일</td>\n",
       "      <td>결제 오류가 있었고, 메일이 스팸함으로 분류되어 해결 못했었지만, 끝까지 해결해주셔...</td>\n",
       "    </tr>\n",
       "    <tr>\n",
       "      <th>4</th>\n",
       "      <td>Hyeihn Jeon</td>\n",
       "      <td>4</td>\n",
       "      <td>2022년 2월 22일</td>\n",
       "      <td>큐피커 앱을 알게 되고 잘 사용하고 있습니다. 전시 설명 뿐 아니라 주제를 정해 올...</td>\n",
       "    </tr>\n",
       "    <tr>\n",
       "      <th>...</th>\n",
       "      <td>...</td>\n",
       "      <td>...</td>\n",
       "      <td>...</td>\n",
       "      <td>...</td>\n",
       "    </tr>\n",
       "    <tr>\n",
       "      <th>101</th>\n",
       "      <td>박선화</td>\n",
       "      <td>5</td>\n",
       "      <td>2022년 6월 26일</td>\n",
       "      <td>넘 좋아요</td>\n",
       "    </tr>\n",
       "    <tr>\n",
       "      <th>102</th>\n",
       "      <td>연제광</td>\n",
       "      <td>1</td>\n",
       "      <td>2022년 2월 8일</td>\n",
       "      <td>어플이아주</td>\n",
       "    </tr>\n",
       "    <tr>\n",
       "      <th>103</th>\n",
       "      <td>Google 사용자</td>\n",
       "      <td>5</td>\n",
       "      <td>2020년 2월 27일</td>\n",
       "      <td>좋아요</td>\n",
       "    </tr>\n",
       "    <tr>\n",
       "      <th>104</th>\n",
       "      <td>슈걸tv</td>\n",
       "      <td>5</td>\n",
       "      <td>2021년 8월 8일</td>\n",
       "      <td>좋아요</td>\n",
       "    </tr>\n",
       "    <tr>\n",
       "      <th>105</th>\n",
       "      <td>Google 사용자</td>\n",
       "      <td>5</td>\n",
       "      <td>2019년 11월 25일</td>\n",
       "      <td>조와요😁</td>\n",
       "    </tr>\n",
       "  </tbody>\n",
       "</table>\n",
       "<p>106 rows × 4 columns</p>\n",
       "</div>"
      ],
      "text/plain": [
       "          useres  stars           date  \\\n",
       "0     MINGOO KIM      3  2022년 12월 21일   \n",
       "1     Google 사용자      5  2019년 11월 27일   \n",
       "2            양찬주      5    2022년 3월 1일   \n",
       "3     MINGOO KIM      3  2022년 12월 21일   \n",
       "4    Hyeihn Jeon      4   2022년 2월 22일   \n",
       "..           ...    ...            ...   \n",
       "101          박선화      5   2022년 6월 26일   \n",
       "102          연제광      1    2022년 2월 8일   \n",
       "103   Google 사용자      5   2020년 2월 27일   \n",
       "104         슈걸tv      5    2021년 8월 8일   \n",
       "105   Google 사용자      5  2019년 11월 25일   \n",
       "\n",
       "                                                review  \n",
       "0    결제 오류가 있었고, 메일이 스팸함으로 분류되어 해결 못했었지만, 끝까지 해결해주셔...  \n",
       "1    예술에 문외한이라 설명 없이 작품 보기 힘든데, 정말 좋은 어플인 것 같아요! 더 ...  \n",
       "2    이전에 초현실주의자들 전시 오디오가이드를 큐피커로 이용했었는데요, 당시 전시 초반이...  \n",
       "3    결제 오류가 있었고, 메일이 스팸함으로 분류되어 해결 못했었지만, 끝까지 해결해주셔...  \n",
       "4    큐피커 앱을 알게 되고 잘 사용하고 있습니다. 전시 설명 뿐 아니라 주제를 정해 올...  \n",
       "..                                                 ...  \n",
       "101                                              넘 좋아요  \n",
       "102                                              어플이아주  \n",
       "103                                                좋아요  \n",
       "104                                                좋아요  \n",
       "105                                               조와요😁  \n",
       "\n",
       "[106 rows x 4 columns]"
      ]
     },
     "execution_count": 16,
     "metadata": {},
     "output_type": "execute_result"
    }
   ],
   "source": [
    "df.replace(to_replace = ['년', '월', '일'], value = '-')"
   ]
  },
  {
   "cell_type": "code",
   "execution_count": 68,
   "id": "e5061d78",
   "metadata": {
    "ExecuteTime": {
     "end_time": "2023-04-26T07:54:15.782408Z",
     "start_time": "2023-04-26T07:54:15.762406Z"
    },
    "collapsed": true,
    "hidden": true
   },
   "outputs": [
    {
     "data": {
      "text/plain": [
       "[None,\n",
       " None,\n",
       " None,\n",
       " None,\n",
       " None,\n",
       " None,\n",
       " None,\n",
       " None,\n",
       " None,\n",
       " None,\n",
       " None,\n",
       " None,\n",
       " None,\n",
       " None,\n",
       " None,\n",
       " None,\n",
       " None,\n",
       " None,\n",
       " None,\n",
       " None,\n",
       " None,\n",
       " None,\n",
       " None,\n",
       " None,\n",
       " None,\n",
       " None,\n",
       " None,\n",
       " None,\n",
       " None,\n",
       " None,\n",
       " None,\n",
       " None,\n",
       " None,\n",
       " None,\n",
       " None,\n",
       " None,\n",
       " None,\n",
       " None,\n",
       " None,\n",
       " None,\n",
       " None,\n",
       " None,\n",
       " None,\n",
       " None,\n",
       " None,\n",
       " None,\n",
       " None,\n",
       " None,\n",
       " None,\n",
       " None,\n",
       " None,\n",
       " None,\n",
       " None,\n",
       " None,\n",
       " None,\n",
       " None,\n",
       " None,\n",
       " None,\n",
       " None,\n",
       " None,\n",
       " None,\n",
       " None,\n",
       " None,\n",
       " None,\n",
       " None,\n",
       " None,\n",
       " None,\n",
       " None,\n",
       " None,\n",
       " None,\n",
       " None,\n",
       " None,\n",
       " None,\n",
       " None,\n",
       " None,\n",
       " None,\n",
       " None,\n",
       " None,\n",
       " None,\n",
       " None,\n",
       " None,\n",
       " None,\n",
       " None,\n",
       " None,\n",
       " None,\n",
       " None,\n",
       " None,\n",
       " None,\n",
       " None,\n",
       " None,\n",
       " None,\n",
       " None,\n",
       " None,\n",
       " None,\n",
       " None,\n",
       " None,\n",
       " None,\n",
       " None,\n",
       " None,\n",
       " None,\n",
       " None,\n",
       " None,\n",
       " None,\n",
       " None,\n",
       " None,\n",
       " None]"
      ]
     },
     "execution_count": 68,
     "metadata": {},
     "output_type": "execute_result"
    }
   ],
   "source": [
    " list(map(lambda x: re.search(r'0-9', x), df['stars']))"
   ]
  },
  {
   "cell_type": "code",
   "execution_count": 21,
   "id": "5ca3d672",
   "metadata": {
    "ExecuteTime": {
     "end_time": "2023-04-25T12:19:55.134937Z",
     "start_time": "2023-04-25T12:19:42.124588Z"
    },
    "hidden": true,
    "scrolled": true
   },
   "outputs": [
    {
     "ename": "NoSuchElementException",
     "evalue": "Message: no such element: Unable to locate element: {\"method\":\"xpath\",\"selector\":\"//*[@id=\"ow65\"]/section/div/div/div[1]/div/div/div[1]/div[3]\"}\n  (Session info: chrome=112.0.5615.138)\nStacktrace:\nBacktrace:\n\tGetHandleVerifier [0x006EDCE3+50899]\n\t(No symbol) [0x0067E111]\n\t(No symbol) [0x00585588]\n\t(No symbol) [0x005B08F9]\n\t(No symbol) [0x005B0AFB]\n\t(No symbol) [0x005DF902]\n\t(No symbol) [0x005CB944]\n\t(No symbol) [0x005DE01C]\n\t(No symbol) [0x005CB6F6]\n\t(No symbol) [0x005A7708]\n\t(No symbol) [0x005A886D]\n\tGetHandleVerifier [0x00953EAE+2566302]\n\tGetHandleVerifier [0x009892B1+2784417]\n\tGetHandleVerifier [0x0098327C+2759788]\n\tGetHandleVerifier [0x00785740+672048]\n\t(No symbol) [0x00688872]\n\t(No symbol) [0x006841C8]\n\t(No symbol) [0x006842AB]\n\t(No symbol) [0x006771B7]\n\tBaseThreadInitThunk [0x75C60099+25]\n\tRtlGetAppContainerNamedObjectPath [0x77227B6E+286]\n\tRtlGetAppContainerNamedObjectPath [0x77227B3E+238]\n",
     "output_type": "error",
     "traceback": [
      "\u001b[1;31m---------------------------------------------------------------------------\u001b[0m",
      "\u001b[1;31mNoSuchElementException\u001b[0m                    Traceback (most recent call last)",
      "\u001b[1;32m<ipython-input-21-611548dc1643>\u001b[0m in \u001b[0;36m<module>\u001b[1;34m\u001b[0m\n\u001b[0;32m     12\u001b[0m \u001b[0mnum\u001b[0m \u001b[1;33m=\u001b[0m \u001b[1;34m'//*[@id=\"ow65\"]/section/div/div/div[1]/div/div/div[1]/div[3]'\u001b[0m\u001b[1;33m\u001b[0m\u001b[1;33m\u001b[0m\u001b[0m\n\u001b[0;32m     13\u001b[0m \u001b[1;33m\u001b[0m\u001b[0m\n\u001b[1;32m---> 14\u001b[1;33m \u001b[0mNum\u001b[0m \u001b[1;33m=\u001b[0m \u001b[0mdriver\u001b[0m\u001b[1;33m.\u001b[0m\u001b[0mfind_element\u001b[0m\u001b[1;33m(\u001b[0m\u001b[0mBy\u001b[0m\u001b[1;33m.\u001b[0m\u001b[0mXPATH\u001b[0m\u001b[1;33m,\u001b[0m \u001b[0mnum\u001b[0m\u001b[1;33m)\u001b[0m\u001b[1;33m\u001b[0m\u001b[1;33m\u001b[0m\u001b[0m\n\u001b[0m\u001b[0;32m     15\u001b[0m \u001b[0mdriver\u001b[0m\u001b[1;33m.\u001b[0m\u001b[0mfind_element\u001b[0m\u001b[1;33m(\u001b[0m\u001b[0mBy\u001b[0m\u001b[1;33m.\u001b[0m\u001b[0mXPATH\u001b[0m\u001b[1;33m,\u001b[0m \u001b[0mmore\u001b[0m\u001b[1;33m)\u001b[0m\u001b[1;33m.\u001b[0m\u001b[0mclick\u001b[0m\u001b[1;33m(\u001b[0m\u001b[1;33m)\u001b[0m\u001b[1;33m\u001b[0m\u001b[1;33m\u001b[0m\u001b[0m\n\u001b[0;32m     16\u001b[0m \u001b[0mdriver\u001b[0m\u001b[1;33m.\u001b[0m\u001b[0mimplicitly_wait\u001b[0m\u001b[1;33m(\u001b[0m\u001b[0mtime_to_wait\u001b[0m\u001b[1;33m=\u001b[0m\u001b[1;36m5\u001b[0m\u001b[1;33m)\u001b[0m\u001b[1;33m\u001b[0m\u001b[1;33m\u001b[0m\u001b[0m\n",
      "\u001b[1;32m~\\anaconda3\\lib\\site-packages\\selenium\\webdriver\\remote\\webdriver.py\u001b[0m in \u001b[0;36mfind_element\u001b[1;34m(self, by, value)\u001b[0m\n\u001b[0;32m    829\u001b[0m             \u001b[0mvalue\u001b[0m \u001b[1;33m=\u001b[0m \u001b[1;34mf'[name=\"{value}\"]'\u001b[0m\u001b[1;33m\u001b[0m\u001b[1;33m\u001b[0m\u001b[0m\n\u001b[0;32m    830\u001b[0m \u001b[1;33m\u001b[0m\u001b[0m\n\u001b[1;32m--> 831\u001b[1;33m         \u001b[1;32mreturn\u001b[0m \u001b[0mself\u001b[0m\u001b[1;33m.\u001b[0m\u001b[0mexecute\u001b[0m\u001b[1;33m(\u001b[0m\u001b[0mCommand\u001b[0m\u001b[1;33m.\u001b[0m\u001b[0mFIND_ELEMENT\u001b[0m\u001b[1;33m,\u001b[0m \u001b[1;33m{\u001b[0m\u001b[1;34m\"using\"\u001b[0m\u001b[1;33m:\u001b[0m \u001b[0mby\u001b[0m\u001b[1;33m,\u001b[0m \u001b[1;34m\"value\"\u001b[0m\u001b[1;33m:\u001b[0m \u001b[0mvalue\u001b[0m\u001b[1;33m}\u001b[0m\u001b[1;33m)\u001b[0m\u001b[1;33m[\u001b[0m\u001b[1;34m\"value\"\u001b[0m\u001b[1;33m]\u001b[0m\u001b[1;33m\u001b[0m\u001b[1;33m\u001b[0m\u001b[0m\n\u001b[0m\u001b[0;32m    832\u001b[0m \u001b[1;33m\u001b[0m\u001b[0m\n\u001b[0;32m    833\u001b[0m     \u001b[1;32mdef\u001b[0m \u001b[0mfind_elements\u001b[0m\u001b[1;33m(\u001b[0m\u001b[0mself\u001b[0m\u001b[1;33m,\u001b[0m \u001b[0mby\u001b[0m\u001b[1;33m=\u001b[0m\u001b[0mBy\u001b[0m\u001b[1;33m.\u001b[0m\u001b[0mID\u001b[0m\u001b[1;33m,\u001b[0m \u001b[0mvalue\u001b[0m\u001b[1;33m:\u001b[0m \u001b[0mOptional\u001b[0m\u001b[1;33m[\u001b[0m\u001b[0mstr\u001b[0m\u001b[1;33m]\u001b[0m \u001b[1;33m=\u001b[0m \u001b[1;32mNone\u001b[0m\u001b[1;33m)\u001b[0m \u001b[1;33m->\u001b[0m \u001b[0mList\u001b[0m\u001b[1;33m[\u001b[0m\u001b[0mWebElement\u001b[0m\u001b[1;33m]\u001b[0m\u001b[1;33m:\u001b[0m\u001b[1;33m\u001b[0m\u001b[1;33m\u001b[0m\u001b[0m\n",
      "\u001b[1;32m~\\anaconda3\\lib\\site-packages\\selenium\\webdriver\\remote\\webdriver.py\u001b[0m in \u001b[0;36mexecute\u001b[1;34m(self, driver_command, params)\u001b[0m\n\u001b[0;32m    438\u001b[0m         \u001b[0mresponse\u001b[0m \u001b[1;33m=\u001b[0m \u001b[0mself\u001b[0m\u001b[1;33m.\u001b[0m\u001b[0mcommand_executor\u001b[0m\u001b[1;33m.\u001b[0m\u001b[0mexecute\u001b[0m\u001b[1;33m(\u001b[0m\u001b[0mdriver_command\u001b[0m\u001b[1;33m,\u001b[0m \u001b[0mparams\u001b[0m\u001b[1;33m)\u001b[0m\u001b[1;33m\u001b[0m\u001b[1;33m\u001b[0m\u001b[0m\n\u001b[0;32m    439\u001b[0m         \u001b[1;32mif\u001b[0m \u001b[0mresponse\u001b[0m\u001b[1;33m:\u001b[0m\u001b[1;33m\u001b[0m\u001b[1;33m\u001b[0m\u001b[0m\n\u001b[1;32m--> 440\u001b[1;33m             \u001b[0mself\u001b[0m\u001b[1;33m.\u001b[0m\u001b[0merror_handler\u001b[0m\u001b[1;33m.\u001b[0m\u001b[0mcheck_response\u001b[0m\u001b[1;33m(\u001b[0m\u001b[0mresponse\u001b[0m\u001b[1;33m)\u001b[0m\u001b[1;33m\u001b[0m\u001b[1;33m\u001b[0m\u001b[0m\n\u001b[0m\u001b[0;32m    441\u001b[0m             \u001b[0mresponse\u001b[0m\u001b[1;33m[\u001b[0m\u001b[1;34m\"value\"\u001b[0m\u001b[1;33m]\u001b[0m \u001b[1;33m=\u001b[0m \u001b[0mself\u001b[0m\u001b[1;33m.\u001b[0m\u001b[0m_unwrap_value\u001b[0m\u001b[1;33m(\u001b[0m\u001b[0mresponse\u001b[0m\u001b[1;33m.\u001b[0m\u001b[0mget\u001b[0m\u001b[1;33m(\u001b[0m\u001b[1;34m\"value\"\u001b[0m\u001b[1;33m,\u001b[0m \u001b[1;32mNone\u001b[0m\u001b[1;33m)\u001b[0m\u001b[1;33m)\u001b[0m\u001b[1;33m\u001b[0m\u001b[1;33m\u001b[0m\u001b[0m\n\u001b[0;32m    442\u001b[0m             \u001b[1;32mreturn\u001b[0m \u001b[0mresponse\u001b[0m\u001b[1;33m\u001b[0m\u001b[1;33m\u001b[0m\u001b[0m\n",
      "\u001b[1;32m~\\anaconda3\\lib\\site-packages\\selenium\\webdriver\\remote\\errorhandler.py\u001b[0m in \u001b[0;36mcheck_response\u001b[1;34m(self, response)\u001b[0m\n\u001b[0;32m    243\u001b[0m                 \u001b[0malert_text\u001b[0m \u001b[1;33m=\u001b[0m \u001b[0mvalue\u001b[0m\u001b[1;33m[\u001b[0m\u001b[1;34m\"alert\"\u001b[0m\u001b[1;33m]\u001b[0m\u001b[1;33m.\u001b[0m\u001b[0mget\u001b[0m\u001b[1;33m(\u001b[0m\u001b[1;34m\"text\"\u001b[0m\u001b[1;33m)\u001b[0m\u001b[1;33m\u001b[0m\u001b[1;33m\u001b[0m\u001b[0m\n\u001b[0;32m    244\u001b[0m             \u001b[1;32mraise\u001b[0m \u001b[0mexception_class\u001b[0m\u001b[1;33m(\u001b[0m\u001b[0mmessage\u001b[0m\u001b[1;33m,\u001b[0m \u001b[0mscreen\u001b[0m\u001b[1;33m,\u001b[0m \u001b[0mstacktrace\u001b[0m\u001b[1;33m,\u001b[0m \u001b[0malert_text\u001b[0m\u001b[1;33m)\u001b[0m  \u001b[1;31m# type: ignore[call-arg]  # mypy is not smart enough here\u001b[0m\u001b[1;33m\u001b[0m\u001b[1;33m\u001b[0m\u001b[0m\n\u001b[1;32m--> 245\u001b[1;33m         \u001b[1;32mraise\u001b[0m \u001b[0mexception_class\u001b[0m\u001b[1;33m(\u001b[0m\u001b[0mmessage\u001b[0m\u001b[1;33m,\u001b[0m \u001b[0mscreen\u001b[0m\u001b[1;33m,\u001b[0m \u001b[0mstacktrace\u001b[0m\u001b[1;33m)\u001b[0m\u001b[1;33m\u001b[0m\u001b[1;33m\u001b[0m\u001b[0m\n\u001b[0m",
      "\u001b[1;31mNoSuchElementException\u001b[0m: Message: no such element: Unable to locate element: {\"method\":\"xpath\",\"selector\":\"//*[@id=\"ow65\"]/section/div/div/div[1]/div/div/div[1]/div[3]\"}\n  (Session info: chrome=112.0.5615.138)\nStacktrace:\nBacktrace:\n\tGetHandleVerifier [0x006EDCE3+50899]\n\t(No symbol) [0x0067E111]\n\t(No symbol) [0x00585588]\n\t(No symbol) [0x005B08F9]\n\t(No symbol) [0x005B0AFB]\n\t(No symbol) [0x005DF902]\n\t(No symbol) [0x005CB944]\n\t(No symbol) [0x005DE01C]\n\t(No symbol) [0x005CB6F6]\n\t(No symbol) [0x005A7708]\n\t(No symbol) [0x005A886D]\n\tGetHandleVerifier [0x00953EAE+2566302]\n\tGetHandleVerifier [0x009892B1+2784417]\n\tGetHandleVerifier [0x0098327C+2759788]\n\tGetHandleVerifier [0x00785740+672048]\n\t(No symbol) [0x00688872]\n\t(No symbol) [0x006841C8]\n\t(No symbol) [0x006842AB]\n\t(No symbol) [0x006771B7]\n\tBaseThreadInitThunk [0x75C60099+25]\n\tRtlGetAppContainerNamedObjectPath [0x77227B6E+286]\n\tRtlGetAppContainerNamedObjectPath [0x77227B3E+238]\n"
     ]
    }
   ],
   "source": [
    "# Chrome Open\n",
    "service.start()\n",
    "driver = webdriver.Remote(service.service_url)\n",
    "\n",
    "# access the url\n",
    "driver.get(url);\n",
    "driver.implicitly_wait(time_to_wait=5)\n",
    "driver.save_screenshot('open_browser.png')\n",
    "\n",
    "more = '//*[@id=\"yDmH0d\"]/c-wiz[2]/div/div/div[1]/div[2]/div/div[1]/c-wiz[4]/section/div/div/div[5]/div/div/button/span'\n",
    "more2 = '//*[@id=\"yDmH0d\"]/div[4]/div[2]/div/div/div/div'\n",
    "num = '//*[@id=\"ow65\"]/section/div/div/div[1]/div/div/div[1]/div[3]'\n",
    "\n",
    "Num = driver.find_element(By.XPATH, num).text\n",
    "\n",
    "driver.find_element(By.XPATH, more).click()\n",
    "driver.implicitly_wait(time_to_wait=5)\n",
    "\n",
    "driver.find_element(By.XPATH, more2).click()\n",
    "driver.implicitly_wait(time_to_wait=5)\n",
    "\n",
    "driver.save_screenshot('click_more_butten.png')\n",
    "\n",
    "body = driver.find_element(By.CSS_SELECTOR, 'body')\n",
    "\n",
    "\n",
    "nm = 'X5PpBb'\n",
    "st = 'iXRFPc'\n",
    "dt = 'bp9Aid'\n",
    "re = 'h3YV2d'\n",
    "hp = 'AJTPZc'\n",
    "\n",
    "\n",
    "tmp = []\n",
    "\n",
    "\n",
    "for i in range(len(Num)):\n",
    "    name = driver.find_elements(By.CLASS_NAME, nm).text\n",
    "    star = driver.find_elements(By.CLASS_NAME, st).get_attribute('aria-label')\n",
    "    date = driver.find_elements(By.CLASS_NAME, dt).text\n",
    "    review = driver.find_elements(By.CLASS_NAME, re).text\n",
    "    helpful = driver.find_elements(By.CLASS_NAME, hp).text\n",
    "\n",
    "    tmp.append([name, star, date, review, helpful])\n",
    "    \n",
    "# driver.quit()"
   ]
  },
  {
   "cell_type": "code",
   "execution_count": 18,
   "id": "938adcd9",
   "metadata": {
    "ExecuteTime": {
     "end_time": "2023-04-25T12:18:09.967657Z",
     "start_time": "2023-04-25T12:18:09.932992Z"
    },
    "collapsed": true,
    "hidden": true
   },
   "outputs": [
    {
     "ename": "NoSuchWindowException",
     "evalue": "Message: no such window: target window already closed\nfrom unknown error: web view not found\n  (Session info: chrome=112.0.5615.138)\nStacktrace:\nBacktrace:\n\tGetHandleVerifier [0x006EDCE3+50899]\n\t(No symbol) [0x0067E111]\n\t(No symbol) [0x00585588]\n\t(No symbol) [0x0056D333]\n\t(No symbol) [0x005CF4DB]\n\t(No symbol) [0x005DDB33]\n\t(No symbol) [0x005CB6F6]\n\t(No symbol) [0x005A7708]\n\t(No symbol) [0x005A886D]\n\tGetHandleVerifier [0x00953EAE+2566302]\n\tGetHandleVerifier [0x009892B1+2784417]\n\tGetHandleVerifier [0x0098327C+2759788]\n\tGetHandleVerifier [0x00785740+672048]\n\t(No symbol) [0x00688872]\n\t(No symbol) [0x006841C8]\n\t(No symbol) [0x006842AB]\n\t(No symbol) [0x006771B7]\n\tBaseThreadInitThunk [0x75C60099+25]\n\tRtlGetAppContainerNamedObjectPath [0x77227B6E+286]\n\tRtlGetAppContainerNamedObjectPath [0x77227B3E+238]\n",
     "output_type": "error",
     "traceback": [
      "\u001b[1;31m---------------------------------------------------------------------------\u001b[0m",
      "\u001b[1;31mNoSuchWindowException\u001b[0m                     Traceback (most recent call last)",
      "\u001b[1;32m<ipython-input-18-574cef042785>\u001b[0m in \u001b[0;36m<module>\u001b[1;34m\u001b[0m\n\u001b[1;32m----> 1\u001b[1;33m \u001b[0mdriver\u001b[0m\u001b[1;33m.\u001b[0m\u001b[0mfind_element\u001b[0m\u001b[1;33m(\u001b[0m\u001b[0mBy\u001b[0m\u001b[1;33m.\u001b[0m\u001b[0mXPATH\u001b[0m\u001b[1;33m,\u001b[0m \u001b[1;34m'//*[@id=\"ow65\"]/section/div/div/div[1]/div/div/div[1]/div[3]'\u001b[0m\u001b[1;33m)\u001b[0m\u001b[1;33m.\u001b[0m\u001b[0mtext\u001b[0m\u001b[1;33m\u001b[0m\u001b[1;33m\u001b[0m\u001b[0m\n\u001b[0m",
      "\u001b[1;32m~\\anaconda3\\lib\\site-packages\\selenium\\webdriver\\remote\\webdriver.py\u001b[0m in \u001b[0;36mfind_element\u001b[1;34m(self, by, value)\u001b[0m\n\u001b[0;32m    829\u001b[0m             \u001b[0mvalue\u001b[0m \u001b[1;33m=\u001b[0m \u001b[1;34mf'[name=\"{value}\"]'\u001b[0m\u001b[1;33m\u001b[0m\u001b[1;33m\u001b[0m\u001b[0m\n\u001b[0;32m    830\u001b[0m \u001b[1;33m\u001b[0m\u001b[0m\n\u001b[1;32m--> 831\u001b[1;33m         \u001b[1;32mreturn\u001b[0m \u001b[0mself\u001b[0m\u001b[1;33m.\u001b[0m\u001b[0mexecute\u001b[0m\u001b[1;33m(\u001b[0m\u001b[0mCommand\u001b[0m\u001b[1;33m.\u001b[0m\u001b[0mFIND_ELEMENT\u001b[0m\u001b[1;33m,\u001b[0m \u001b[1;33m{\u001b[0m\u001b[1;34m\"using\"\u001b[0m\u001b[1;33m:\u001b[0m \u001b[0mby\u001b[0m\u001b[1;33m,\u001b[0m \u001b[1;34m\"value\"\u001b[0m\u001b[1;33m:\u001b[0m \u001b[0mvalue\u001b[0m\u001b[1;33m}\u001b[0m\u001b[1;33m)\u001b[0m\u001b[1;33m[\u001b[0m\u001b[1;34m\"value\"\u001b[0m\u001b[1;33m]\u001b[0m\u001b[1;33m\u001b[0m\u001b[1;33m\u001b[0m\u001b[0m\n\u001b[0m\u001b[0;32m    832\u001b[0m \u001b[1;33m\u001b[0m\u001b[0m\n\u001b[0;32m    833\u001b[0m     \u001b[1;32mdef\u001b[0m \u001b[0mfind_elements\u001b[0m\u001b[1;33m(\u001b[0m\u001b[0mself\u001b[0m\u001b[1;33m,\u001b[0m \u001b[0mby\u001b[0m\u001b[1;33m=\u001b[0m\u001b[0mBy\u001b[0m\u001b[1;33m.\u001b[0m\u001b[0mID\u001b[0m\u001b[1;33m,\u001b[0m \u001b[0mvalue\u001b[0m\u001b[1;33m:\u001b[0m \u001b[0mOptional\u001b[0m\u001b[1;33m[\u001b[0m\u001b[0mstr\u001b[0m\u001b[1;33m]\u001b[0m \u001b[1;33m=\u001b[0m \u001b[1;32mNone\u001b[0m\u001b[1;33m)\u001b[0m \u001b[1;33m->\u001b[0m \u001b[0mList\u001b[0m\u001b[1;33m[\u001b[0m\u001b[0mWebElement\u001b[0m\u001b[1;33m]\u001b[0m\u001b[1;33m:\u001b[0m\u001b[1;33m\u001b[0m\u001b[1;33m\u001b[0m\u001b[0m\n",
      "\u001b[1;32m~\\anaconda3\\lib\\site-packages\\selenium\\webdriver\\remote\\webdriver.py\u001b[0m in \u001b[0;36mexecute\u001b[1;34m(self, driver_command, params)\u001b[0m\n\u001b[0;32m    438\u001b[0m         \u001b[0mresponse\u001b[0m \u001b[1;33m=\u001b[0m \u001b[0mself\u001b[0m\u001b[1;33m.\u001b[0m\u001b[0mcommand_executor\u001b[0m\u001b[1;33m.\u001b[0m\u001b[0mexecute\u001b[0m\u001b[1;33m(\u001b[0m\u001b[0mdriver_command\u001b[0m\u001b[1;33m,\u001b[0m \u001b[0mparams\u001b[0m\u001b[1;33m)\u001b[0m\u001b[1;33m\u001b[0m\u001b[1;33m\u001b[0m\u001b[0m\n\u001b[0;32m    439\u001b[0m         \u001b[1;32mif\u001b[0m \u001b[0mresponse\u001b[0m\u001b[1;33m:\u001b[0m\u001b[1;33m\u001b[0m\u001b[1;33m\u001b[0m\u001b[0m\n\u001b[1;32m--> 440\u001b[1;33m             \u001b[0mself\u001b[0m\u001b[1;33m.\u001b[0m\u001b[0merror_handler\u001b[0m\u001b[1;33m.\u001b[0m\u001b[0mcheck_response\u001b[0m\u001b[1;33m(\u001b[0m\u001b[0mresponse\u001b[0m\u001b[1;33m)\u001b[0m\u001b[1;33m\u001b[0m\u001b[1;33m\u001b[0m\u001b[0m\n\u001b[0m\u001b[0;32m    441\u001b[0m             \u001b[0mresponse\u001b[0m\u001b[1;33m[\u001b[0m\u001b[1;34m\"value\"\u001b[0m\u001b[1;33m]\u001b[0m \u001b[1;33m=\u001b[0m \u001b[0mself\u001b[0m\u001b[1;33m.\u001b[0m\u001b[0m_unwrap_value\u001b[0m\u001b[1;33m(\u001b[0m\u001b[0mresponse\u001b[0m\u001b[1;33m.\u001b[0m\u001b[0mget\u001b[0m\u001b[1;33m(\u001b[0m\u001b[1;34m\"value\"\u001b[0m\u001b[1;33m,\u001b[0m \u001b[1;32mNone\u001b[0m\u001b[1;33m)\u001b[0m\u001b[1;33m)\u001b[0m\u001b[1;33m\u001b[0m\u001b[1;33m\u001b[0m\u001b[0m\n\u001b[0;32m    442\u001b[0m             \u001b[1;32mreturn\u001b[0m \u001b[0mresponse\u001b[0m\u001b[1;33m\u001b[0m\u001b[1;33m\u001b[0m\u001b[0m\n",
      "\u001b[1;32m~\\anaconda3\\lib\\site-packages\\selenium\\webdriver\\remote\\errorhandler.py\u001b[0m in \u001b[0;36mcheck_response\u001b[1;34m(self, response)\u001b[0m\n\u001b[0;32m    243\u001b[0m                 \u001b[0malert_text\u001b[0m \u001b[1;33m=\u001b[0m \u001b[0mvalue\u001b[0m\u001b[1;33m[\u001b[0m\u001b[1;34m\"alert\"\u001b[0m\u001b[1;33m]\u001b[0m\u001b[1;33m.\u001b[0m\u001b[0mget\u001b[0m\u001b[1;33m(\u001b[0m\u001b[1;34m\"text\"\u001b[0m\u001b[1;33m)\u001b[0m\u001b[1;33m\u001b[0m\u001b[1;33m\u001b[0m\u001b[0m\n\u001b[0;32m    244\u001b[0m             \u001b[1;32mraise\u001b[0m \u001b[0mexception_class\u001b[0m\u001b[1;33m(\u001b[0m\u001b[0mmessage\u001b[0m\u001b[1;33m,\u001b[0m \u001b[0mscreen\u001b[0m\u001b[1;33m,\u001b[0m \u001b[0mstacktrace\u001b[0m\u001b[1;33m,\u001b[0m \u001b[0malert_text\u001b[0m\u001b[1;33m)\u001b[0m  \u001b[1;31m# type: ignore[call-arg]  # mypy is not smart enough here\u001b[0m\u001b[1;33m\u001b[0m\u001b[1;33m\u001b[0m\u001b[0m\n\u001b[1;32m--> 245\u001b[1;33m         \u001b[1;32mraise\u001b[0m \u001b[0mexception_class\u001b[0m\u001b[1;33m(\u001b[0m\u001b[0mmessage\u001b[0m\u001b[1;33m,\u001b[0m \u001b[0mscreen\u001b[0m\u001b[1;33m,\u001b[0m \u001b[0mstacktrace\u001b[0m\u001b[1;33m)\u001b[0m\u001b[1;33m\u001b[0m\u001b[1;33m\u001b[0m\u001b[0m\n\u001b[0m",
      "\u001b[1;31mNoSuchWindowException\u001b[0m: Message: no such window: target window already closed\nfrom unknown error: web view not found\n  (Session info: chrome=112.0.5615.138)\nStacktrace:\nBacktrace:\n\tGetHandleVerifier [0x006EDCE3+50899]\n\t(No symbol) [0x0067E111]\n\t(No symbol) [0x00585588]\n\t(No symbol) [0x0056D333]\n\t(No symbol) [0x005CF4DB]\n\t(No symbol) [0x005DDB33]\n\t(No symbol) [0x005CB6F6]\n\t(No symbol) [0x005A7708]\n\t(No symbol) [0x005A886D]\n\tGetHandleVerifier [0x00953EAE+2566302]\n\tGetHandleVerifier [0x009892B1+2784417]\n\tGetHandleVerifier [0x0098327C+2759788]\n\tGetHandleVerifier [0x00785740+672048]\n\t(No symbol) [0x00688872]\n\t(No symbol) [0x006841C8]\n\t(No symbol) [0x006842AB]\n\t(No symbol) [0x006771B7]\n\tBaseThreadInitThunk [0x75C60099+25]\n\tRtlGetAppContainerNamedObjectPath [0x77227B6E+286]\n\tRtlGetAppContainerNamedObjectPath [0x77227B3E+238]\n"
     ]
    }
   ],
   "source": [
    "driver.find_element(By.XPATH, '//*[@id=\"ow65\"]/section/div/div/div[1]/div/div/div[1]/div[3]').text"
   ]
  },
  {
   "cell_type": "code",
   "execution_count": 51,
   "id": "53e06a69",
   "metadata": {
    "ExecuteTime": {
     "end_time": "2023-04-22T07:49:44.294832Z",
     "start_time": "2023-04-22T07:49:25.741645Z"
    },
    "hidden": true
   },
   "outputs": [
    {
     "name": "stdout",
     "output_type": "stream",
     "text": [
      "MINGOO KIM\n"
     ]
    }
   ],
   "source": [
    "# Chrome Open\n",
    "service.start()\n",
    "driver = webdriver.Remote(service.service_url)\n",
    "\n",
    "# access the url\n",
    "driver.get(url);\n",
    "driver.implicitly_wait(time_to_wait=5)\n",
    "\n",
    "\n",
    "more = '//*[@id=\"yDmH0d\"]/c-wiz[2]/div/div/div[1]/div[2]/div/div[1]/c-wiz[4]/section/div/div/div[5]/div/div/button/span'\n",
    "driver.find_element(By.XPATH, more).click()\n",
    "time.sleep(1)\n",
    "\n",
    "more2 = '//*[@id=\"yDmH0d\"]/div[4]/div[2]/div/div/div/div'\n",
    "driver.find_element(By.XPATH, more2).click()\n",
    "time.sleep(2)\n",
    "\n",
    "body = driver.find_element(By.CSS_SELECTOR, 'body')\n",
    "\n",
    "CN = ['X5PpBb', 'iXRFPc', 'bp9Aid', 'h3YV2d']\n",
    "\n",
    "for i in range(1):\n",
    "    name = driver.find_element(By.CLASS_NAME, CN[0])\n",
    "    print(name.text)\n",
    "    for i in range(20):\n",
    "        body.send_keys(Keys.PAGE_DOWN)\n",
    "        time.sleep(0.1)\n",
    "    time.sleep(2)\n",
    "\n",
    "driver.quit()"
   ]
  }
 ],
 "metadata": {
  "kernelspec": {
   "display_name": "Python 3",
   "language": "python",
   "name": "python3"
  },
  "language_info": {
   "codemirror_mode": {
    "name": "ipython",
    "version": 3
   },
   "file_extension": ".py",
   "mimetype": "text/x-python",
   "name": "python",
   "nbconvert_exporter": "python",
   "pygments_lexer": "ipython3",
   "version": "3.8.8"
  }
 },
 "nbformat": 4,
 "nbformat_minor": 5
}

{
 "cells": [
  {
   "cell_type": "markdown",
   "id": "31d34fa8",
   "metadata": {},
   "source": [
    "# 더보기"
   ]
  },
  {
   "cell_type": "code",
   "execution_count": 8,
   "id": "2bf0ec6f",
   "metadata": {
    "ExecuteTime": {
     "end_time": "2023-04-21T09:40:08.970065Z",
     "start_time": "2023-04-21T09:40:01.462086Z"
    }
   },
   "outputs": [
    {
     "name": "stdout",
     "output_type": "stream",
     "text": [
      "Collecting pymongo\n",
      "  Downloading pymongo-4.3.3-cp38-cp38-win_amd64.whl (382 kB)\n",
      "     -------------------------------------- 382.3/382.3 kB 6.0 MB/s eta 0:00:00\n",
      "Collecting dnspython<3.0.0,>=1.16.0 (from pymongo)\n",
      "  Downloading dnspython-2.3.0-py3-none-any.whl (283 kB)\n",
      "     -------------------------------------- 283.7/283.7 kB 8.8 MB/s eta 0:00:00\n",
      "Installing collected packages: dnspython, pymongo\n",
      "Successfully installed dnspython-2.3.0 pymongo-4.3.3\n"
     ]
    }
   ],
   "source": [
    "# !pip install selenium\n",
    "# !pip install webdriver_manager\n",
    "# !pip install pymongo"
   ]
  },
  {
   "cell_type": "code",
   "execution_count": 32,
   "id": "a16a75d5",
   "metadata": {
    "ExecuteTime": {
     "end_time": "2023-04-21T08:45:08.276689Z",
     "start_time": "2023-04-21T08:44:57.096206Z"
    },
    "collapsed": true
   },
   "outputs": [
    {
     "ename": "TimeoutException",
     "evalue": "Message: \nStacktrace:\nBacktrace:\n\tGetHandleVerifier [0x00FADCE3+50899]\n\t(No symbol) [0x00F3E111]\n\t(No symbol) [0x00E45588]\n\t(No symbol) [0x00E708F9]\n\t(No symbol) [0x00E70AFB]\n\t(No symbol) [0x00E9F902]\n\t(No symbol) [0x00E8B944]\n\t(No symbol) [0x00E9E01C]\n\t(No symbol) [0x00E8B6F6]\n\t(No symbol) [0x00E67708]\n\t(No symbol) [0x00E6886D]\n\tGetHandleVerifier [0x01213EAE+2566302]\n\tGetHandleVerifier [0x012492B1+2784417]\n\tGetHandleVerifier [0x0124327C+2759788]\n\tGetHandleVerifier [0x01045740+672048]\n\t(No symbol) [0x00F48872]\n\t(No symbol) [0x00F441C8]\n\t(No symbol) [0x00F442AB]\n\t(No symbol) [0x00F371B7]\n\tBaseThreadInitThunk [0x752F0099+25]\n\tRtlGetAppContainerNamedObjectPath [0x77447B6E+286]\n\tRtlGetAppContainerNamedObjectPath [0x77447B3E+238]\n",
     "output_type": "error",
     "traceback": [
      "\u001b[1;31m---------------------------------------------------------------------------\u001b[0m",
      "\u001b[1;31mTimeoutException\u001b[0m                          Traceback (most recent call last)",
      "\u001b[1;32m<ipython-input-32-72ec7f135800>\u001b[0m in \u001b[0;36m<module>\u001b[1;34m\u001b[0m\n\u001b[0;32m     27\u001b[0m \u001b[1;33m\u001b[0m\u001b[0m\n\u001b[0;32m     28\u001b[0m \u001b[0mmore\u001b[0m \u001b[1;33m=\u001b[0m \u001b[1;34m'//*[@id=\"root\"]/div/section/div/div[8]'\u001b[0m\u001b[1;33m\u001b[0m\u001b[1;33m\u001b[0m\u001b[0m\n\u001b[1;32m---> 29\u001b[1;33m \u001b[0melement\u001b[0m \u001b[1;33m=\u001b[0m \u001b[0mWebDriverWait\u001b[0m\u001b[1;33m(\u001b[0m\u001b[0mdriver\u001b[0m\u001b[1;33m,\u001b[0m \u001b[1;36m1\u001b[0m\u001b[1;33m)\u001b[0m\u001b[1;33m.\u001b[0m\u001b[0muntil\u001b[0m\u001b[1;33m(\u001b[0m\u001b[0mEC\u001b[0m\u001b[1;33m.\u001b[0m\u001b[0mpresence_of_element_located\u001b[0m\u001b[1;33m(\u001b[0m\u001b[1;33m(\u001b[0m\u001b[0mBy\u001b[0m\u001b[1;33m.\u001b[0m\u001b[0mXPATH\u001b[0m\u001b[1;33m,\u001b[0m \u001b[0mmore\u001b[0m\u001b[1;33m)\u001b[0m\u001b[1;33m)\u001b[0m\u001b[1;33m)\u001b[0m\u001b[1;33m\u001b[0m\u001b[1;33m\u001b[0m\u001b[0m\n\u001b[0m\u001b[0;32m     30\u001b[0m \u001b[0mloc\u001b[0m \u001b[1;33m=\u001b[0m \u001b[0melement\u001b[0m\u001b[1;33m.\u001b[0m\u001b[0mlocation\u001b[0m\u001b[1;33m[\u001b[0m\u001b[1;34m'y'\u001b[0m\u001b[1;33m]\u001b[0m\u001b[1;33m\u001b[0m\u001b[1;33m\u001b[0m\u001b[0m\n\u001b[0;32m     31\u001b[0m \u001b[0mdriver\u001b[0m\u001b[1;33m.\u001b[0m\u001b[0mexecute_script\u001b[0m\u001b[1;33m(\u001b[0m\u001b[1;34mf\"window.scrollTo(0, {loc})\"\u001b[0m\u001b[1;33m)\u001b[0m\u001b[1;33m\u001b[0m\u001b[1;33m\u001b[0m\u001b[0m\n",
      "\u001b[1;32m~\\anaconda3\\lib\\site-packages\\selenium\\webdriver\\support\\wait.py\u001b[0m in \u001b[0;36muntil\u001b[1;34m(self, method, message)\u001b[0m\n\u001b[0;32m     93\u001b[0m             \u001b[1;32mif\u001b[0m \u001b[0mtime\u001b[0m\u001b[1;33m.\u001b[0m\u001b[0mmonotonic\u001b[0m\u001b[1;33m(\u001b[0m\u001b[1;33m)\u001b[0m \u001b[1;33m>\u001b[0m \u001b[0mend_time\u001b[0m\u001b[1;33m:\u001b[0m\u001b[1;33m\u001b[0m\u001b[1;33m\u001b[0m\u001b[0m\n\u001b[0;32m     94\u001b[0m                 \u001b[1;32mbreak\u001b[0m\u001b[1;33m\u001b[0m\u001b[1;33m\u001b[0m\u001b[0m\n\u001b[1;32m---> 95\u001b[1;33m         \u001b[1;32mraise\u001b[0m \u001b[0mTimeoutException\u001b[0m\u001b[1;33m(\u001b[0m\u001b[0mmessage\u001b[0m\u001b[1;33m,\u001b[0m \u001b[0mscreen\u001b[0m\u001b[1;33m,\u001b[0m \u001b[0mstacktrace\u001b[0m\u001b[1;33m)\u001b[0m\u001b[1;33m\u001b[0m\u001b[1;33m\u001b[0m\u001b[0m\n\u001b[0m\u001b[0;32m     96\u001b[0m \u001b[1;33m\u001b[0m\u001b[0m\n\u001b[0;32m     97\u001b[0m     \u001b[1;32mdef\u001b[0m \u001b[0muntil_not\u001b[0m\u001b[1;33m(\u001b[0m\u001b[0mself\u001b[0m\u001b[1;33m,\u001b[0m \u001b[0mmethod\u001b[0m\u001b[1;33m,\u001b[0m \u001b[0mmessage\u001b[0m\u001b[1;33m:\u001b[0m \u001b[0mstr\u001b[0m \u001b[1;33m=\u001b[0m \u001b[1;34m\"\"\u001b[0m\u001b[1;33m)\u001b[0m\u001b[1;33m:\u001b[0m\u001b[1;33m\u001b[0m\u001b[1;33m\u001b[0m\u001b[0m\n",
      "\u001b[1;31mTimeoutException\u001b[0m: Message: \nStacktrace:\nBacktrace:\n\tGetHandleVerifier [0x00FADCE3+50899]\n\t(No symbol) [0x00F3E111]\n\t(No symbol) [0x00E45588]\n\t(No symbol) [0x00E708F9]\n\t(No symbol) [0x00E70AFB]\n\t(No symbol) [0x00E9F902]\n\t(No symbol) [0x00E8B944]\n\t(No symbol) [0x00E9E01C]\n\t(No symbol) [0x00E8B6F6]\n\t(No symbol) [0x00E67708]\n\t(No symbol) [0x00E6886D]\n\tGetHandleVerifier [0x01213EAE+2566302]\n\tGetHandleVerifier [0x012492B1+2784417]\n\tGetHandleVerifier [0x0124327C+2759788]\n\tGetHandleVerifier [0x01045740+672048]\n\t(No symbol) [0x00F48872]\n\t(No symbol) [0x00F441C8]\n\t(No symbol) [0x00F442AB]\n\t(No symbol) [0x00F371B7]\n\tBaseThreadInitThunk [0x752F0099+25]\n\tRtlGetAppContainerNamedObjectPath [0x77447B6E+286]\n\tRtlGetAppContainerNamedObjectPath [0x77447B3E+238]\n"
     ]
    }
   ],
   "source": [
    "import time\n",
    "\n",
    "from selenium import webdriver\n",
    "from selenium.webdriver.chrome.service import Service\n",
    "\n",
    "from selenium.webdriver.support.wait import WebDriverWait\n",
    "from selenium.webdriver.support import expected_conditions as EC\n",
    "\n",
    "from selenium.webdriver.common.by import By\n",
    "from selenium.webdriver.common.keys import Keys\n",
    "\n",
    "# url to access\n",
    "url = 'https://play.google.com/store/apps/details?id=com.peopulley.qpicker.android&showAllReviews=true'\n",
    "\n",
    "# Chrome driver path\n",
    "service = Service('/path/to/chromedriver')\n",
    "\n",
    "# Chrome Open\n",
    "service.start()\n",
    "driver = webdriver.Remote(service.service_url)\n",
    "\n",
    "\n",
    "# access the url\n",
    "driver.get(url);\n",
    "\n",
    "time.sleep(3) # Let the user actually see something!\n",
    "\n",
    "more = '//*[@id=\"root\"]/div/section/div/div[8]'\n",
    "element = WebDriverWait(driver, 1).until(EC.presence_of_element_located((By.XPATH, more)))\n",
    "loc = element.location['y']\n",
    "driver.execute_script(f\"window.scrollTo(0, {loc})\")\n",
    "time.sleep(0.2)\n",
    "\n",
    "# name = driver.find_elements_by_xpath(\"//span[@class='X5PpBb']\")\n",
    "# name.text\n",
    "# len(name)\n",
    "\n",
    "# date = driver.find_elements_by_xpath(\"//span[@class='bp9Aid']\")\n",
    "# date.text\n",
    "# len(date)\n",
    "\n",
    "# star = driver.find_element_by_xpath(\"//span[@class='EGFGHd']/div[@class='Jx4nYe']/div[@role='img']\")\n",
    "# star.get_attribute('aria-label')\n",
    "\n",
    "# like = ddriver.find_element_by_xpath(\"//div[@class='AJTPZc']/span[@jsname='J0d7Yd']\")\n",
    "# like.text\n",
    "# len(like)\n",
    "\n",
    "# reviews = driver.find_element(By.XPATH, \"//span[@class='h3YV2d']\")\n",
    "# reviews.text\n",
    "# len(reviews)\n",
    "\n",
    "# quit the Chorme\n",
    "driver.quit()"
   ]
  },
  {
   "cell_type": "markdown",
   "id": "954c428f",
   "metadata": {},
   "source": [
    "# Library"
   ]
  },
  {
   "cell_type": "code",
   "execution_count": 19,
   "id": "69098d39",
   "metadata": {
    "ExecuteTime": {
     "end_time": "2023-04-22T07:09:49.275738Z",
     "start_time": "2023-04-22T07:09:49.268736Z"
    }
   },
   "outputs": [],
   "source": [
    "import os\n",
    "import sys\n",
    "\n",
    "import time\n",
    "from selenium import webdriver\n",
    "from selenium.webdriver.chrome.service import Service\n",
    "from selenium.webdriver.common.by import By\n",
    "from selenium.webdriver.common.keys import Keys\n",
    "from selenium.webdriver.support.wait import WebDriverWait\n",
    "from selenium.webdriver.support import expected_conditions as EC\n",
    "\n",
    "import pandas as pd\n",
    "import numpy as np\n",
    "import matplotlib.pyplot as plt\n",
    "import seaborn as sns\n",
    "from pymongo import MongoClient"
   ]
  },
  {
   "cell_type": "code",
   "execution_count": 20,
   "id": "2134c681",
   "metadata": {
    "ExecuteTime": {
     "end_time": "2023-04-22T07:09:49.638157Z",
     "start_time": "2023-04-22T07:09:49.630120Z"
    }
   },
   "outputs": [],
   "source": [
    "# Chrome driver path\n",
    "service = Service('/path/to/chromedriver')\n",
    "\n",
    "# url to access\n",
    "url = 'https://play.google.com/store/apps/details?id=com.peopulley.qpicker.android&showAllReviews=true'"
   ]
  },
  {
   "cell_type": "code",
   "execution_count": 51,
   "id": "810fe879",
   "metadata": {
    "ExecuteTime": {
     "end_time": "2023-04-22T07:49:44.294832Z",
     "start_time": "2023-04-22T07:49:25.741645Z"
    }
   },
   "outputs": [
    {
     "name": "stdout",
     "output_type": "stream",
     "text": [
      "MINGOO KIM\n"
     ]
    }
   ],
   "source": [
    "# Chrome Open\n",
    "service.start()\n",
    "driver = webdriver.Remote(service.service_url)\n",
    "\n",
    "# access the url\n",
    "driver.get(url);\n",
    "\n",
    "time.sleep(2)\n",
    "\n",
    "more = '//*[@id=\"yDmH0d\"]/c-wiz[2]/div/div/div[1]/div[2]/div/div[1]/c-wiz[4]/section/div/div/div[5]/div/div/button/span'\n",
    "driver.find_element(By.XPATH, more).click()\n",
    "time.sleep(1)\n",
    "\n",
    "more2 = '//*[@id=\"yDmH0d\"]/div[4]/div[2]/div/div/div/div'\n",
    "driver.find_element(By.XPATH, more2).click()\n",
    "time.sleep(2)\n",
    "\n",
    "body = driver.find_element(By.CSS_SELECTOR, 'body')\n",
    "\n",
    "CN = ['X5PpBb', 'iXRFPc', 'bp9Aid', 'h3YV2d']\n",
    "\n",
    "for i in range(1):\n",
    "    name = driver.find_element(By.CLASS_NAME, CN[0])\n",
    "    print(name.text)\n",
    "    for i in range(20):\n",
    "        body.send_keys(Keys.PAGE_DOWN)\n",
    "        time.sleep(0.1)\n",
    "    time.sleep(2)\n",
    "\n",
    "driver.quit()"
   ]
  },
  {
   "cell_type": "code",
   "execution_count": 50,
   "id": "ab7bcaaf",
   "metadata": {
    "ExecuteTime": {
     "end_time": "2023-04-22T07:48:33.657350Z",
     "start_time": "2023-04-22T07:48:33.635354Z"
    }
   },
   "outputs": [
    {
     "ename": "TypeError",
     "evalue": "'WebElement' object is not iterable",
     "output_type": "error",
     "traceback": [
      "\u001b[1;31m---------------------------------------------------------------------------\u001b[0m",
      "\u001b[1;31mTypeError\u001b[0m                                 Traceback (most recent call last)",
      "\u001b[1;32m<ipython-input-50-7352e2557f7f>\u001b[0m in \u001b[0;36m<module>\u001b[1;34m\u001b[0m\n\u001b[1;32m----> 1\u001b[1;33m \u001b[1;32mfor\u001b[0m \u001b[0melement\u001b[0m \u001b[1;32min\u001b[0m \u001b[0mname\u001b[0m\u001b[1;33m:\u001b[0m\u001b[1;33m\u001b[0m\u001b[1;33m\u001b[0m\u001b[0m\n\u001b[0m\u001b[0;32m      2\u001b[0m     \u001b[0mprint\u001b[0m\u001b[1;33m(\u001b[0m\u001b[0melement\u001b[0m\u001b[1;33m.\u001b[0m\u001b[0mtext\u001b[0m\u001b[1;33m)\u001b[0m\u001b[1;33m\u001b[0m\u001b[1;33m\u001b[0m\u001b[0m\n",
      "\u001b[1;31mTypeError\u001b[0m: 'WebElement' object is not iterable"
     ]
    }
   ],
   "source": [
    "for element in name:\n",
    "    print(element.text)"
   ]
  },
  {
   "cell_type": "code",
   "execution_count": 44,
   "id": "fa86570b",
   "metadata": {
    "ExecuteTime": {
     "end_time": "2023-04-22T07:40:07.593560Z",
     "start_time": "2023-04-22T07:39:07.245093Z"
    }
   },
   "outputs": [
    {
     "name": "stdout",
     "output_type": "stream",
     "text": [
      "<selenium.webdriver.remote.webelement.WebElement (session=\"6ffa62c5f459611d7a969e72e10da19d\", element=\"918eb6dd-c4ec-4387-ade7-2ed4d77aa144\")>\n",
      "<selenium.webdriver.remote.webelement.WebElement (session=\"6ffa62c5f459611d7a969e72e10da19d\", element=\"918eb6dd-c4ec-4387-ade7-2ed4d77aa144\")>\n",
      "<selenium.webdriver.remote.webelement.WebElement (session=\"6ffa62c5f459611d7a969e72e10da19d\", element=\"918eb6dd-c4ec-4387-ade7-2ed4d77aa144\")>\n",
      "<selenium.webdriver.remote.webelement.WebElement (session=\"6ffa62c5f459611d7a969e72e10da19d\", element=\"918eb6dd-c4ec-4387-ade7-2ed4d77aa144\")>\n",
      "<selenium.webdriver.remote.webelement.WebElement (session=\"6ffa62c5f459611d7a969e72e10da19d\", element=\"918eb6dd-c4ec-4387-ade7-2ed4d77aa144\")>\n",
      "<selenium.webdriver.remote.webelement.WebElement (session=\"6ffa62c5f459611d7a969e72e10da19d\", element=\"918eb6dd-c4ec-4387-ade7-2ed4d77aa144\")>\n",
      "<selenium.webdriver.remote.webelement.WebElement (session=\"6ffa62c5f459611d7a969e72e10da19d\", element=\"918eb6dd-c4ec-4387-ade7-2ed4d77aa144\")>\n"
     ]
    }
   ],
   "source": [
    "# Chrome Open\n",
    "service.start()\n",
    "driver = webdriver.Remote(service.service_url)\n",
    "\n",
    "# access the url\n",
    "driver.get(url);\n",
    "\n",
    "time.sleep(2)\n",
    "\n",
    "more = '//*[@id=\"yDmH0d\"]/c-wiz[2]/div/div/div[1]/div[2]/div/div[1]/c-wiz[4]/section/div/div/div[5]/div/div/button/span'\n",
    "driver.find_element(By.XPATH, more).click()\n",
    "time.sleep(1)\n",
    "\n",
    "more2 = '//*[@id=\"yDmH0d\"]/div[4]/div[2]/div/div/div/div'\n",
    "driver.find_element(By.XPATH, more2).click()\n",
    "time.sleep(2)\n",
    "\n",
    "body = driver.find_element(By.CSS_SELECTOR, 'body')\n",
    "\n",
    "for i in range(7):\n",
    "    reviews = driver.find_element(By.CLASS_NAME, 'h3YV2d')\n",
    "    print(reviews.text)\n",
    "    for i in range(20):\n",
    "        body.send_keys(Keys.PAGE_DOWN)\n",
    "        time.sleep(0.1)\n",
    "    time.sleep(2)\n",
    "\n",
    "driver.quit()"
   ]
  },
  {
   "cell_type": "code",
   "execution_count": 46,
   "id": "5b1a6963",
   "metadata": {
    "ExecuteTime": {
     "end_time": "2023-04-22T07:42:28.505983Z",
     "start_time": "2023-04-22T07:42:28.451989Z"
    }
   },
   "outputs": [
    {
     "ename": "InvalidSessionIdException",
     "evalue": "Message: invalid session id\nStacktrace:\nBacktrace:\n\tGetHandleVerifier [0x00FADCE3+50899]\n\t(No symbol) [0x00F3E111]\n\t(No symbol) [0x00E45450]\n\t(No symbol) [0x00E670B8]\n\t(No symbol) [0x00E8B7F6]\n\t(No symbol) [0x00E88722]\n\t(No symbol) [0x00E87ADE]\n\t(No symbol) [0x00E25391]\n\t(No symbol) [0x00E2598E]\n\t(No symbol) [0x00E25D6A]\n\tGetHandleVerifier [0x01213EAE+2566302]\n\tGetHandleVerifier [0x012492B1+2784417]\n\tGetHandleVerifier [0x0124327C+2759788]\n\tGetHandleVerifier [0x01045740+672048]\n\t(No symbol) [0x00F48872]\n\t(No symbol) [0x00E24FEA]\n\t(No symbol) [0x00E249EF]\n\tGetHandleVerifier [0x0126BBCC+2926012]\n\tBaseThreadInitThunk [0x752F0099+25]\n\tRtlGetAppContainerNamedObjectPath [0x77447B6E+286]\n\tRtlGetAppContainerNamedObjectPath [0x77447B3E+238]\n",
     "output_type": "error",
     "traceback": [
      "\u001b[1;31m---------------------------------------------------------------------------\u001b[0m",
      "\u001b[1;31mInvalidSessionIdException\u001b[0m                 Traceback (most recent call last)",
      "\u001b[1;32m<ipython-input-46-104dd78d771c>\u001b[0m in \u001b[0;36m<module>\u001b[1;34m\u001b[0m\n\u001b[1;32m----> 1\u001b[1;33m \u001b[0mprint\u001b[0m\u001b[1;33m(\u001b[0m\u001b[0mreviews\u001b[0m\u001b[1;33m.\u001b[0m\u001b[0mtext\u001b[0m\u001b[1;33m)\u001b[0m\u001b[1;33m\u001b[0m\u001b[1;33m\u001b[0m\u001b[0m\n\u001b[0m",
      "\u001b[1;32m~\\anaconda3\\lib\\site-packages\\selenium\\webdriver\\remote\\webelement.py\u001b[0m in \u001b[0;36mtext\u001b[1;34m(self)\u001b[0m\n\u001b[0;32m     88\u001b[0m     \u001b[1;32mdef\u001b[0m \u001b[0mtext\u001b[0m\u001b[1;33m(\u001b[0m\u001b[0mself\u001b[0m\u001b[1;33m)\u001b[0m \u001b[1;33m->\u001b[0m \u001b[0mstr\u001b[0m\u001b[1;33m:\u001b[0m\u001b[1;33m\u001b[0m\u001b[1;33m\u001b[0m\u001b[0m\n\u001b[0;32m     89\u001b[0m         \u001b[1;34m\"\"\"The text of the element.\"\"\"\u001b[0m\u001b[1;33m\u001b[0m\u001b[1;33m\u001b[0m\u001b[0m\n\u001b[1;32m---> 90\u001b[1;33m         \u001b[1;32mreturn\u001b[0m \u001b[0mself\u001b[0m\u001b[1;33m.\u001b[0m\u001b[0m_execute\u001b[0m\u001b[1;33m(\u001b[0m\u001b[0mCommand\u001b[0m\u001b[1;33m.\u001b[0m\u001b[0mGET_ELEMENT_TEXT\u001b[0m\u001b[1;33m)\u001b[0m\u001b[1;33m[\u001b[0m\u001b[1;34m\"value\"\u001b[0m\u001b[1;33m]\u001b[0m\u001b[1;33m\u001b[0m\u001b[1;33m\u001b[0m\u001b[0m\n\u001b[0m\u001b[0;32m     91\u001b[0m \u001b[1;33m\u001b[0m\u001b[0m\n\u001b[0;32m     92\u001b[0m     \u001b[1;32mdef\u001b[0m \u001b[0mclick\u001b[0m\u001b[1;33m(\u001b[0m\u001b[0mself\u001b[0m\u001b[1;33m)\u001b[0m \u001b[1;33m->\u001b[0m \u001b[1;32mNone\u001b[0m\u001b[1;33m:\u001b[0m\u001b[1;33m\u001b[0m\u001b[1;33m\u001b[0m\u001b[0m\n",
      "\u001b[1;32m~\\anaconda3\\lib\\site-packages\\selenium\\webdriver\\remote\\webelement.py\u001b[0m in \u001b[0;36m_execute\u001b[1;34m(self, command, params)\u001b[0m\n\u001b[0;32m    402\u001b[0m             \u001b[0mparams\u001b[0m \u001b[1;33m=\u001b[0m \u001b[1;33m{\u001b[0m\u001b[1;33m}\u001b[0m\u001b[1;33m\u001b[0m\u001b[1;33m\u001b[0m\u001b[0m\n\u001b[0;32m    403\u001b[0m         \u001b[0mparams\u001b[0m\u001b[1;33m[\u001b[0m\u001b[1;34m\"id\"\u001b[0m\u001b[1;33m]\u001b[0m \u001b[1;33m=\u001b[0m \u001b[0mself\u001b[0m\u001b[1;33m.\u001b[0m\u001b[0m_id\u001b[0m\u001b[1;33m\u001b[0m\u001b[1;33m\u001b[0m\u001b[0m\n\u001b[1;32m--> 404\u001b[1;33m         \u001b[1;32mreturn\u001b[0m \u001b[0mself\u001b[0m\u001b[1;33m.\u001b[0m\u001b[0m_parent\u001b[0m\u001b[1;33m.\u001b[0m\u001b[0mexecute\u001b[0m\u001b[1;33m(\u001b[0m\u001b[0mcommand\u001b[0m\u001b[1;33m,\u001b[0m \u001b[0mparams\u001b[0m\u001b[1;33m)\u001b[0m\u001b[1;33m\u001b[0m\u001b[1;33m\u001b[0m\u001b[0m\n\u001b[0m\u001b[0;32m    405\u001b[0m \u001b[1;33m\u001b[0m\u001b[0m\n\u001b[0;32m    406\u001b[0m     \u001b[1;32mdef\u001b[0m \u001b[0mfind_element\u001b[0m\u001b[1;33m(\u001b[0m\u001b[0mself\u001b[0m\u001b[1;33m,\u001b[0m \u001b[0mby\u001b[0m\u001b[1;33m=\u001b[0m\u001b[0mBy\u001b[0m\u001b[1;33m.\u001b[0m\u001b[0mID\u001b[0m\u001b[1;33m,\u001b[0m \u001b[0mvalue\u001b[0m\u001b[1;33m=\u001b[0m\u001b[1;32mNone\u001b[0m\u001b[1;33m)\u001b[0m \u001b[1;33m->\u001b[0m \u001b[0mWebElement\u001b[0m\u001b[1;33m:\u001b[0m\u001b[1;33m\u001b[0m\u001b[1;33m\u001b[0m\u001b[0m\n",
      "\u001b[1;32m~\\anaconda3\\lib\\site-packages\\selenium\\webdriver\\remote\\webdriver.py\u001b[0m in \u001b[0;36mexecute\u001b[1;34m(self, driver_command, params)\u001b[0m\n\u001b[0;32m    438\u001b[0m         \u001b[0mresponse\u001b[0m \u001b[1;33m=\u001b[0m \u001b[0mself\u001b[0m\u001b[1;33m.\u001b[0m\u001b[0mcommand_executor\u001b[0m\u001b[1;33m.\u001b[0m\u001b[0mexecute\u001b[0m\u001b[1;33m(\u001b[0m\u001b[0mdriver_command\u001b[0m\u001b[1;33m,\u001b[0m \u001b[0mparams\u001b[0m\u001b[1;33m)\u001b[0m\u001b[1;33m\u001b[0m\u001b[1;33m\u001b[0m\u001b[0m\n\u001b[0;32m    439\u001b[0m         \u001b[1;32mif\u001b[0m \u001b[0mresponse\u001b[0m\u001b[1;33m:\u001b[0m\u001b[1;33m\u001b[0m\u001b[1;33m\u001b[0m\u001b[0m\n\u001b[1;32m--> 440\u001b[1;33m             \u001b[0mself\u001b[0m\u001b[1;33m.\u001b[0m\u001b[0merror_handler\u001b[0m\u001b[1;33m.\u001b[0m\u001b[0mcheck_response\u001b[0m\u001b[1;33m(\u001b[0m\u001b[0mresponse\u001b[0m\u001b[1;33m)\u001b[0m\u001b[1;33m\u001b[0m\u001b[1;33m\u001b[0m\u001b[0m\n\u001b[0m\u001b[0;32m    441\u001b[0m             \u001b[0mresponse\u001b[0m\u001b[1;33m[\u001b[0m\u001b[1;34m\"value\"\u001b[0m\u001b[1;33m]\u001b[0m \u001b[1;33m=\u001b[0m \u001b[0mself\u001b[0m\u001b[1;33m.\u001b[0m\u001b[0m_unwrap_value\u001b[0m\u001b[1;33m(\u001b[0m\u001b[0mresponse\u001b[0m\u001b[1;33m.\u001b[0m\u001b[0mget\u001b[0m\u001b[1;33m(\u001b[0m\u001b[1;34m\"value\"\u001b[0m\u001b[1;33m,\u001b[0m \u001b[1;32mNone\u001b[0m\u001b[1;33m)\u001b[0m\u001b[1;33m)\u001b[0m\u001b[1;33m\u001b[0m\u001b[1;33m\u001b[0m\u001b[0m\n\u001b[0;32m    442\u001b[0m             \u001b[1;32mreturn\u001b[0m \u001b[0mresponse\u001b[0m\u001b[1;33m\u001b[0m\u001b[1;33m\u001b[0m\u001b[0m\n",
      "\u001b[1;32m~\\anaconda3\\lib\\site-packages\\selenium\\webdriver\\remote\\errorhandler.py\u001b[0m in \u001b[0;36mcheck_response\u001b[1;34m(self, response)\u001b[0m\n\u001b[0;32m    243\u001b[0m                 \u001b[0malert_text\u001b[0m \u001b[1;33m=\u001b[0m \u001b[0mvalue\u001b[0m\u001b[1;33m[\u001b[0m\u001b[1;34m\"alert\"\u001b[0m\u001b[1;33m]\u001b[0m\u001b[1;33m.\u001b[0m\u001b[0mget\u001b[0m\u001b[1;33m(\u001b[0m\u001b[1;34m\"text\"\u001b[0m\u001b[1;33m)\u001b[0m\u001b[1;33m\u001b[0m\u001b[1;33m\u001b[0m\u001b[0m\n\u001b[0;32m    244\u001b[0m             \u001b[1;32mraise\u001b[0m \u001b[0mexception_class\u001b[0m\u001b[1;33m(\u001b[0m\u001b[0mmessage\u001b[0m\u001b[1;33m,\u001b[0m \u001b[0mscreen\u001b[0m\u001b[1;33m,\u001b[0m \u001b[0mstacktrace\u001b[0m\u001b[1;33m,\u001b[0m \u001b[0malert_text\u001b[0m\u001b[1;33m)\u001b[0m  \u001b[1;31m# type: ignore[call-arg]  # mypy is not smart enough here\u001b[0m\u001b[1;33m\u001b[0m\u001b[1;33m\u001b[0m\u001b[0m\n\u001b[1;32m--> 245\u001b[1;33m         \u001b[1;32mraise\u001b[0m \u001b[0mexception_class\u001b[0m\u001b[1;33m(\u001b[0m\u001b[0mmessage\u001b[0m\u001b[1;33m,\u001b[0m \u001b[0mscreen\u001b[0m\u001b[1;33m,\u001b[0m \u001b[0mstacktrace\u001b[0m\u001b[1;33m)\u001b[0m\u001b[1;33m\u001b[0m\u001b[1;33m\u001b[0m\u001b[0m\n\u001b[0m",
      "\u001b[1;31mInvalidSessionIdException\u001b[0m: Message: invalid session id\nStacktrace:\nBacktrace:\n\tGetHandleVerifier [0x00FADCE3+50899]\n\t(No symbol) [0x00F3E111]\n\t(No symbol) [0x00E45450]\n\t(No symbol) [0x00E670B8]\n\t(No symbol) [0x00E8B7F6]\n\t(No symbol) [0x00E88722]\n\t(No symbol) [0x00E87ADE]\n\t(No symbol) [0x00E25391]\n\t(No symbol) [0x00E2598E]\n\t(No symbol) [0x00E25D6A]\n\tGetHandleVerifier [0x01213EAE+2566302]\n\tGetHandleVerifier [0x012492B1+2784417]\n\tGetHandleVerifier [0x0124327C+2759788]\n\tGetHandleVerifier [0x01045740+672048]\n\t(No symbol) [0x00F48872]\n\t(No symbol) [0x00E24FEA]\n\t(No symbol) [0x00E249EF]\n\tGetHandleVerifier [0x0126BBCC+2926012]\n\tBaseThreadInitThunk [0x752F0099+25]\n\tRtlGetAppContainerNamedObjectPath [0x77447B6E+286]\n\tRtlGetAppContainerNamedObjectPath [0x77447B3E+238]\n"
     ]
    }
   ],
   "source": [
    "print(reviews.text)"
   ]
  },
  {
   "cell_type": "code",
   "execution_count": 32,
   "id": "ffc75da0",
   "metadata": {
    "ExecuteTime": {
     "end_time": "2023-04-22T07:21:42.939103Z",
     "start_time": "2023-04-22T07:21:42.871110Z"
    }
   },
   "outputs": [
    {
     "ename": "InvalidSessionIdException",
     "evalue": "Message: invalid session id\nStacktrace:\nBacktrace:\n\tGetHandleVerifier [0x00FADCE3+50899]\n\t(No symbol) [0x00F3E111]\n\t(No symbol) [0x00E45450]\n\t(No symbol) [0x00E670B8]\n\t(No symbol) [0x00E8B7F6]\n\t(No symbol) [0x00E88722]\n\t(No symbol) [0x00E87ADE]\n\t(No symbol) [0x00E25391]\n\t(No symbol) [0x00E2598E]\n\t(No symbol) [0x00E25D6A]\n\tGetHandleVerifier [0x01213EAE+2566302]\n\tGetHandleVerifier [0x012492B1+2784417]\n\tGetHandleVerifier [0x0124327C+2759788]\n\tGetHandleVerifier [0x01045740+672048]\n\t(No symbol) [0x00F48872]\n\t(No symbol) [0x00E24FEA]\n\t(No symbol) [0x00E249EF]\n\tGetHandleVerifier [0x0126BBCC+2926012]\n\tBaseThreadInitThunk [0x752F0099+25]\n\tRtlGetAppContainerNamedObjectPath [0x77447B6E+286]\n\tRtlGetAppContainerNamedObjectPath [0x77447B3E+238]\n",
     "output_type": "error",
     "traceback": [
      "\u001b[1;31m---------------------------------------------------------------------------\u001b[0m",
      "\u001b[1;31mInvalidSessionIdException\u001b[0m                 Traceback (most recent call last)",
      "\u001b[1;32m<ipython-input-32-85ad3b797369>\u001b[0m in \u001b[0;36m<module>\u001b[1;34m\u001b[0m\n\u001b[1;32m----> 1\u001b[1;33m \u001b[0mreviews\u001b[0m\u001b[1;33m.\u001b[0m\u001b[0mget_attribute\u001b[0m\u001b[1;33m(\u001b[0m\u001b[1;34m'value'\u001b[0m\u001b[1;33m)\u001b[0m\u001b[1;33m\u001b[0m\u001b[1;33m\u001b[0m\u001b[0m\n\u001b[0m",
      "\u001b[1;32m~\\anaconda3\\lib\\site-packages\\selenium\\webdriver\\remote\\webelement.py\u001b[0m in \u001b[0;36mget_attribute\u001b[1;34m(self, name)\u001b[0m\n\u001b[0;32m    176\u001b[0m         \u001b[1;32mif\u001b[0m \u001b[0mgetAttribute_js\u001b[0m \u001b[1;32mis\u001b[0m \u001b[1;32mNone\u001b[0m\u001b[1;33m:\u001b[0m\u001b[1;33m\u001b[0m\u001b[1;33m\u001b[0m\u001b[0m\n\u001b[0;32m    177\u001b[0m             \u001b[0m_load_js\u001b[0m\u001b[1;33m(\u001b[0m\u001b[1;33m)\u001b[0m\u001b[1;33m\u001b[0m\u001b[1;33m\u001b[0m\u001b[0m\n\u001b[1;32m--> 178\u001b[1;33m         attribute_value = self.parent.execute_script(\n\u001b[0m\u001b[0;32m    179\u001b[0m             \u001b[1;34mf\"/* getAttribute */return ({getAttribute_js}).apply(null, arguments);\"\u001b[0m\u001b[1;33m,\u001b[0m \u001b[0mself\u001b[0m\u001b[1;33m,\u001b[0m \u001b[0mname\u001b[0m\u001b[1;33m\u001b[0m\u001b[1;33m\u001b[0m\u001b[0m\n\u001b[0;32m    180\u001b[0m         )\n",
      "\u001b[1;32m~\\anaconda3\\lib\\site-packages\\selenium\\webdriver\\remote\\webdriver.py\u001b[0m in \u001b[0;36mexecute_script\u001b[1;34m(self, script, *args)\u001b[0m\n\u001b[0;32m    498\u001b[0m         \u001b[0mcommand\u001b[0m \u001b[1;33m=\u001b[0m \u001b[0mCommand\u001b[0m\u001b[1;33m.\u001b[0m\u001b[0mW3C_EXECUTE_SCRIPT\u001b[0m\u001b[1;33m\u001b[0m\u001b[1;33m\u001b[0m\u001b[0m\n\u001b[0;32m    499\u001b[0m \u001b[1;33m\u001b[0m\u001b[0m\n\u001b[1;32m--> 500\u001b[1;33m         \u001b[1;32mreturn\u001b[0m \u001b[0mself\u001b[0m\u001b[1;33m.\u001b[0m\u001b[0mexecute\u001b[0m\u001b[1;33m(\u001b[0m\u001b[0mcommand\u001b[0m\u001b[1;33m,\u001b[0m \u001b[1;33m{\u001b[0m\u001b[1;34m\"script\"\u001b[0m\u001b[1;33m:\u001b[0m \u001b[0mscript\u001b[0m\u001b[1;33m,\u001b[0m \u001b[1;34m\"args\"\u001b[0m\u001b[1;33m:\u001b[0m \u001b[0mconverted_args\u001b[0m\u001b[1;33m}\u001b[0m\u001b[1;33m)\u001b[0m\u001b[1;33m[\u001b[0m\u001b[1;34m\"value\"\u001b[0m\u001b[1;33m]\u001b[0m\u001b[1;33m\u001b[0m\u001b[1;33m\u001b[0m\u001b[0m\n\u001b[0m\u001b[0;32m    501\u001b[0m \u001b[1;33m\u001b[0m\u001b[0m\n\u001b[0;32m    502\u001b[0m     \u001b[1;32mdef\u001b[0m \u001b[0mexecute_async_script\u001b[0m\u001b[1;33m(\u001b[0m\u001b[0mself\u001b[0m\u001b[1;33m,\u001b[0m \u001b[0mscript\u001b[0m\u001b[1;33m:\u001b[0m \u001b[0mstr\u001b[0m\u001b[1;33m,\u001b[0m \u001b[1;33m*\u001b[0m\u001b[0margs\u001b[0m\u001b[1;33m)\u001b[0m\u001b[1;33m:\u001b[0m\u001b[1;33m\u001b[0m\u001b[1;33m\u001b[0m\u001b[0m\n",
      "\u001b[1;32m~\\anaconda3\\lib\\site-packages\\selenium\\webdriver\\remote\\webdriver.py\u001b[0m in \u001b[0;36mexecute\u001b[1;34m(self, driver_command, params)\u001b[0m\n\u001b[0;32m    438\u001b[0m         \u001b[0mresponse\u001b[0m \u001b[1;33m=\u001b[0m \u001b[0mself\u001b[0m\u001b[1;33m.\u001b[0m\u001b[0mcommand_executor\u001b[0m\u001b[1;33m.\u001b[0m\u001b[0mexecute\u001b[0m\u001b[1;33m(\u001b[0m\u001b[0mdriver_command\u001b[0m\u001b[1;33m,\u001b[0m \u001b[0mparams\u001b[0m\u001b[1;33m)\u001b[0m\u001b[1;33m\u001b[0m\u001b[1;33m\u001b[0m\u001b[0m\n\u001b[0;32m    439\u001b[0m         \u001b[1;32mif\u001b[0m \u001b[0mresponse\u001b[0m\u001b[1;33m:\u001b[0m\u001b[1;33m\u001b[0m\u001b[1;33m\u001b[0m\u001b[0m\n\u001b[1;32m--> 440\u001b[1;33m             \u001b[0mself\u001b[0m\u001b[1;33m.\u001b[0m\u001b[0merror_handler\u001b[0m\u001b[1;33m.\u001b[0m\u001b[0mcheck_response\u001b[0m\u001b[1;33m(\u001b[0m\u001b[0mresponse\u001b[0m\u001b[1;33m)\u001b[0m\u001b[1;33m\u001b[0m\u001b[1;33m\u001b[0m\u001b[0m\n\u001b[0m\u001b[0;32m    441\u001b[0m             \u001b[0mresponse\u001b[0m\u001b[1;33m[\u001b[0m\u001b[1;34m\"value\"\u001b[0m\u001b[1;33m]\u001b[0m \u001b[1;33m=\u001b[0m \u001b[0mself\u001b[0m\u001b[1;33m.\u001b[0m\u001b[0m_unwrap_value\u001b[0m\u001b[1;33m(\u001b[0m\u001b[0mresponse\u001b[0m\u001b[1;33m.\u001b[0m\u001b[0mget\u001b[0m\u001b[1;33m(\u001b[0m\u001b[1;34m\"value\"\u001b[0m\u001b[1;33m,\u001b[0m \u001b[1;32mNone\u001b[0m\u001b[1;33m)\u001b[0m\u001b[1;33m)\u001b[0m\u001b[1;33m\u001b[0m\u001b[1;33m\u001b[0m\u001b[0m\n\u001b[0;32m    442\u001b[0m             \u001b[1;32mreturn\u001b[0m \u001b[0mresponse\u001b[0m\u001b[1;33m\u001b[0m\u001b[1;33m\u001b[0m\u001b[0m\n",
      "\u001b[1;32m~\\anaconda3\\lib\\site-packages\\selenium\\webdriver\\remote\\errorhandler.py\u001b[0m in \u001b[0;36mcheck_response\u001b[1;34m(self, response)\u001b[0m\n\u001b[0;32m    243\u001b[0m                 \u001b[0malert_text\u001b[0m \u001b[1;33m=\u001b[0m \u001b[0mvalue\u001b[0m\u001b[1;33m[\u001b[0m\u001b[1;34m\"alert\"\u001b[0m\u001b[1;33m]\u001b[0m\u001b[1;33m.\u001b[0m\u001b[0mget\u001b[0m\u001b[1;33m(\u001b[0m\u001b[1;34m\"text\"\u001b[0m\u001b[1;33m)\u001b[0m\u001b[1;33m\u001b[0m\u001b[1;33m\u001b[0m\u001b[0m\n\u001b[0;32m    244\u001b[0m             \u001b[1;32mraise\u001b[0m \u001b[0mexception_class\u001b[0m\u001b[1;33m(\u001b[0m\u001b[0mmessage\u001b[0m\u001b[1;33m,\u001b[0m \u001b[0mscreen\u001b[0m\u001b[1;33m,\u001b[0m \u001b[0mstacktrace\u001b[0m\u001b[1;33m,\u001b[0m \u001b[0malert_text\u001b[0m\u001b[1;33m)\u001b[0m  \u001b[1;31m# type: ignore[call-arg]  # mypy is not smart enough here\u001b[0m\u001b[1;33m\u001b[0m\u001b[1;33m\u001b[0m\u001b[0m\n\u001b[1;32m--> 245\u001b[1;33m         \u001b[1;32mraise\u001b[0m \u001b[0mexception_class\u001b[0m\u001b[1;33m(\u001b[0m\u001b[0mmessage\u001b[0m\u001b[1;33m,\u001b[0m \u001b[0mscreen\u001b[0m\u001b[1;33m,\u001b[0m \u001b[0mstacktrace\u001b[0m\u001b[1;33m)\u001b[0m\u001b[1;33m\u001b[0m\u001b[1;33m\u001b[0m\u001b[0m\n\u001b[0m",
      "\u001b[1;31mInvalidSessionIdException\u001b[0m: Message: invalid session id\nStacktrace:\nBacktrace:\n\tGetHandleVerifier [0x00FADCE3+50899]\n\t(No symbol) [0x00F3E111]\n\t(No symbol) [0x00E45450]\n\t(No symbol) [0x00E670B8]\n\t(No symbol) [0x00E8B7F6]\n\t(No symbol) [0x00E88722]\n\t(No symbol) [0x00E87ADE]\n\t(No symbol) [0x00E25391]\n\t(No symbol) [0x00E2598E]\n\t(No symbol) [0x00E25D6A]\n\tGetHandleVerifier [0x01213EAE+2566302]\n\tGetHandleVerifier [0x012492B1+2784417]\n\tGetHandleVerifier [0x0124327C+2759788]\n\tGetHandleVerifier [0x01045740+672048]\n\t(No symbol) [0x00F48872]\n\t(No symbol) [0x00E24FEA]\n\t(No symbol) [0x00E249EF]\n\tGetHandleVerifier [0x0126BBCC+2926012]\n\tBaseThreadInitThunk [0x752F0099+25]\n\tRtlGetAppContainerNamedObjectPath [0x77447B6E+286]\n\tRtlGetAppContainerNamedObjectPath [0x77447B3E+238]\n"
     ]
    }
   ],
   "source": [
    "def get_chart_list():\n",
    "    try:\n",
    "        WebDriverWait(driver, 3).until(EC.presence_of_element_located((By.CLASS_NAME, 'lst50')))\n",
    "        # 페이지 로드후 3초 지나서 class 이름이 lst50인 것을 찾아본다\n",
    "        chart_list = []\n",
    "        # 차트를 리스트 형식으로 저장하기위해 할당\n",
    "        data = driver.find_elements_by_class_name('lst50')\n",
    "        for k in data:\n",
    "            chart_list.append(k.text.split('\\n'))\n",
    "        print(chart_list)\n",
    "        # 일단 여기까지만 적고 프린트해본다\n",
    "    except TimeoutException:\n",
    "    \t# class 이름이 lst50인게 없으면 아래와 같이 에러를 뱉는다\n",
    "        print('해당 페이지에 차트정보가 없습니다.')\n",
    "    finally:\n",
    "    \t# 성공을 하든 예외처리가 되든 완료한 드라이버는 닫아준다\n",
    "        driver.quit()"
   ]
  },
  {
   "cell_type": "code",
   "execution_count": null,
   "id": "473a8371",
   "metadata": {},
   "outputs": [],
   "source": []
  },
  {
   "cell_type": "code",
   "execution_count": null,
   "id": "18e57508",
   "metadata": {},
   "outputs": [],
   "source": []
  },
  {
   "cell_type": "code",
   "execution_count": null,
   "id": "d88d1a80",
   "metadata": {},
   "outputs": [],
   "source": []
  },
  {
   "cell_type": "code",
   "execution_count": null,
   "id": "21def682",
   "metadata": {},
   "outputs": [],
   "source": []
  },
  {
   "cell_type": "code",
   "execution_count": null,
   "id": "938adcd9",
   "metadata": {},
   "outputs": [],
   "source": []
  },
  {
   "cell_type": "code",
   "execution_count": null,
   "id": "08ad42e2",
   "metadata": {},
   "outputs": [],
   "source": []
  },
  {
   "cell_type": "code",
   "execution_count": null,
   "id": "541ddeac",
   "metadata": {},
   "outputs": [],
   "source": []
  },
  {
   "cell_type": "code",
   "execution_count": null,
   "id": "e37d066d",
   "metadata": {},
   "outputs": [],
   "source": []
  },
  {
   "cell_type": "code",
   "execution_count": null,
   "id": "e4f0276c",
   "metadata": {},
   "outputs": [],
   "source": []
  }
 ],
 "metadata": {
  "kernelspec": {
   "display_name": "Python 3",
   "language": "python",
   "name": "python3"
  },
  "language_info": {
   "codemirror_mode": {
    "name": "ipython",
    "version": 3
   },
   "file_extension": ".py",
   "mimetype": "text/x-python",
   "name": "python",
   "nbconvert_exporter": "python",
   "pygments_lexer": "ipython3",
   "version": "3.8.8"
  }
 },
 "nbformat": 4,
 "nbformat_minor": 5
}

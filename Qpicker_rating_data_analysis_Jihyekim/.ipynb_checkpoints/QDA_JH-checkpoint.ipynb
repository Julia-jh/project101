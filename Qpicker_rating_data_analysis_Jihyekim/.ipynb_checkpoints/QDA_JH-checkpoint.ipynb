{
 "cells": [
  {
   "cell_type": "markdown",
   "id": "31d34fa8",
   "metadata": {
    "heading_collapsed": true
   },
   "source": [
    "# 더보기"
   ]
  },
  {
   "cell_type": "code",
   "execution_count": 8,
   "id": "2bf0ec6f",
   "metadata": {
    "ExecuteTime": {
     "end_time": "2023-04-21T09:40:08.970065Z",
     "start_time": "2023-04-21T09:40:01.462086Z"
    },
    "hidden": true
   },
   "outputs": [
    {
     "name": "stdout",
     "output_type": "stream",
     "text": [
      "Collecting pymongo\n",
      "  Downloading pymongo-4.3.3-cp38-cp38-win_amd64.whl (382 kB)\n",
      "     -------------------------------------- 382.3/382.3 kB 6.0 MB/s eta 0:00:00\n",
      "Collecting dnspython<3.0.0,>=1.16.0 (from pymongo)\n",
      "  Downloading dnspython-2.3.0-py3-none-any.whl (283 kB)\n",
      "     -------------------------------------- 283.7/283.7 kB 8.8 MB/s eta 0:00:00\n",
      "Installing collected packages: dnspython, pymongo\n",
      "Successfully installed dnspython-2.3.0 pymongo-4.3.3\n"
     ]
    }
   ],
   "source": [
    "# !pip install selenium\n",
    "# !pip install webdriver_manager\n",
    "# !pip install pymongo"
   ]
  },
  {
   "cell_type": "code",
   "execution_count": 32,
   "id": "a16a75d5",
   "metadata": {
    "ExecuteTime": {
     "end_time": "2023-04-21T08:45:08.276689Z",
     "start_time": "2023-04-21T08:44:57.096206Z"
    },
    "collapsed": true,
    "hidden": true
   },
   "outputs": [
    {
     "ename": "TimeoutException",
     "evalue": "Message: \nStacktrace:\nBacktrace:\n\tGetHandleVerifier [0x00FADCE3+50899]\n\t(No symbol) [0x00F3E111]\n\t(No symbol) [0x00E45588]\n\t(No symbol) [0x00E708F9]\n\t(No symbol) [0x00E70AFB]\n\t(No symbol) [0x00E9F902]\n\t(No symbol) [0x00E8B944]\n\t(No symbol) [0x00E9E01C]\n\t(No symbol) [0x00E8B6F6]\n\t(No symbol) [0x00E67708]\n\t(No symbol) [0x00E6886D]\n\tGetHandleVerifier [0x01213EAE+2566302]\n\tGetHandleVerifier [0x012492B1+2784417]\n\tGetHandleVerifier [0x0124327C+2759788]\n\tGetHandleVerifier [0x01045740+672048]\n\t(No symbol) [0x00F48872]\n\t(No symbol) [0x00F441C8]\n\t(No symbol) [0x00F442AB]\n\t(No symbol) [0x00F371B7]\n\tBaseThreadInitThunk [0x752F0099+25]\n\tRtlGetAppContainerNamedObjectPath [0x77447B6E+286]\n\tRtlGetAppContainerNamedObjectPath [0x77447B3E+238]\n",
     "output_type": "error",
     "traceback": [
      "\u001b[1;31m---------------------------------------------------------------------------\u001b[0m",
      "\u001b[1;31mTimeoutException\u001b[0m                          Traceback (most recent call last)",
      "\u001b[1;32m<ipython-input-32-72ec7f135800>\u001b[0m in \u001b[0;36m<module>\u001b[1;34m\u001b[0m\n\u001b[0;32m     27\u001b[0m \u001b[1;33m\u001b[0m\u001b[0m\n\u001b[0;32m     28\u001b[0m \u001b[0mmore\u001b[0m \u001b[1;33m=\u001b[0m \u001b[1;34m'//*[@id=\"root\"]/div/section/div/div[8]'\u001b[0m\u001b[1;33m\u001b[0m\u001b[1;33m\u001b[0m\u001b[0m\n\u001b[1;32m---> 29\u001b[1;33m \u001b[0melement\u001b[0m \u001b[1;33m=\u001b[0m \u001b[0mWebDriverWait\u001b[0m\u001b[1;33m(\u001b[0m\u001b[0mdriver\u001b[0m\u001b[1;33m,\u001b[0m \u001b[1;36m1\u001b[0m\u001b[1;33m)\u001b[0m\u001b[1;33m.\u001b[0m\u001b[0muntil\u001b[0m\u001b[1;33m(\u001b[0m\u001b[0mEC\u001b[0m\u001b[1;33m.\u001b[0m\u001b[0mpresence_of_element_located\u001b[0m\u001b[1;33m(\u001b[0m\u001b[1;33m(\u001b[0m\u001b[0mBy\u001b[0m\u001b[1;33m.\u001b[0m\u001b[0mXPATH\u001b[0m\u001b[1;33m,\u001b[0m \u001b[0mmore\u001b[0m\u001b[1;33m)\u001b[0m\u001b[1;33m)\u001b[0m\u001b[1;33m)\u001b[0m\u001b[1;33m\u001b[0m\u001b[1;33m\u001b[0m\u001b[0m\n\u001b[0m\u001b[0;32m     30\u001b[0m \u001b[0mloc\u001b[0m \u001b[1;33m=\u001b[0m \u001b[0melement\u001b[0m\u001b[1;33m.\u001b[0m\u001b[0mlocation\u001b[0m\u001b[1;33m[\u001b[0m\u001b[1;34m'y'\u001b[0m\u001b[1;33m]\u001b[0m\u001b[1;33m\u001b[0m\u001b[1;33m\u001b[0m\u001b[0m\n\u001b[0;32m     31\u001b[0m \u001b[0mdriver\u001b[0m\u001b[1;33m.\u001b[0m\u001b[0mexecute_script\u001b[0m\u001b[1;33m(\u001b[0m\u001b[1;34mf\"window.scrollTo(0, {loc})\"\u001b[0m\u001b[1;33m)\u001b[0m\u001b[1;33m\u001b[0m\u001b[1;33m\u001b[0m\u001b[0m\n",
      "\u001b[1;32m~\\anaconda3\\lib\\site-packages\\selenium\\webdriver\\support\\wait.py\u001b[0m in \u001b[0;36muntil\u001b[1;34m(self, method, message)\u001b[0m\n\u001b[0;32m     93\u001b[0m             \u001b[1;32mif\u001b[0m \u001b[0mtime\u001b[0m\u001b[1;33m.\u001b[0m\u001b[0mmonotonic\u001b[0m\u001b[1;33m(\u001b[0m\u001b[1;33m)\u001b[0m \u001b[1;33m>\u001b[0m \u001b[0mend_time\u001b[0m\u001b[1;33m:\u001b[0m\u001b[1;33m\u001b[0m\u001b[1;33m\u001b[0m\u001b[0m\n\u001b[0;32m     94\u001b[0m                 \u001b[1;32mbreak\u001b[0m\u001b[1;33m\u001b[0m\u001b[1;33m\u001b[0m\u001b[0m\n\u001b[1;32m---> 95\u001b[1;33m         \u001b[1;32mraise\u001b[0m \u001b[0mTimeoutException\u001b[0m\u001b[1;33m(\u001b[0m\u001b[0mmessage\u001b[0m\u001b[1;33m,\u001b[0m \u001b[0mscreen\u001b[0m\u001b[1;33m,\u001b[0m \u001b[0mstacktrace\u001b[0m\u001b[1;33m)\u001b[0m\u001b[1;33m\u001b[0m\u001b[1;33m\u001b[0m\u001b[0m\n\u001b[0m\u001b[0;32m     96\u001b[0m \u001b[1;33m\u001b[0m\u001b[0m\n\u001b[0;32m     97\u001b[0m     \u001b[1;32mdef\u001b[0m \u001b[0muntil_not\u001b[0m\u001b[1;33m(\u001b[0m\u001b[0mself\u001b[0m\u001b[1;33m,\u001b[0m \u001b[0mmethod\u001b[0m\u001b[1;33m,\u001b[0m \u001b[0mmessage\u001b[0m\u001b[1;33m:\u001b[0m \u001b[0mstr\u001b[0m \u001b[1;33m=\u001b[0m \u001b[1;34m\"\"\u001b[0m\u001b[1;33m)\u001b[0m\u001b[1;33m:\u001b[0m\u001b[1;33m\u001b[0m\u001b[1;33m\u001b[0m\u001b[0m\n",
      "\u001b[1;31mTimeoutException\u001b[0m: Message: \nStacktrace:\nBacktrace:\n\tGetHandleVerifier [0x00FADCE3+50899]\n\t(No symbol) [0x00F3E111]\n\t(No symbol) [0x00E45588]\n\t(No symbol) [0x00E708F9]\n\t(No symbol) [0x00E70AFB]\n\t(No symbol) [0x00E9F902]\n\t(No symbol) [0x00E8B944]\n\t(No symbol) [0x00E9E01C]\n\t(No symbol) [0x00E8B6F6]\n\t(No symbol) [0x00E67708]\n\t(No symbol) [0x00E6886D]\n\tGetHandleVerifier [0x01213EAE+2566302]\n\tGetHandleVerifier [0x012492B1+2784417]\n\tGetHandleVerifier [0x0124327C+2759788]\n\tGetHandleVerifier [0x01045740+672048]\n\t(No symbol) [0x00F48872]\n\t(No symbol) [0x00F441C8]\n\t(No symbol) [0x00F442AB]\n\t(No symbol) [0x00F371B7]\n\tBaseThreadInitThunk [0x752F0099+25]\n\tRtlGetAppContainerNamedObjectPath [0x77447B6E+286]\n\tRtlGetAppContainerNamedObjectPath [0x77447B3E+238]\n"
     ]
    }
   ],
   "source": [
    "import time\n",
    "\n",
    "from selenium import webdriver\n",
    "from selenium.webdriver.chrome.service import Service\n",
    "\n",
    "from selenium.webdriver.support.wait import WebDriverWait\n",
    "from selenium.webdriver.support import expected_conditions as EC\n",
    "\n",
    "from selenium.webdriver.common.by import By\n",
    "from selenium.webdriver.common.keys import Keys\n",
    "\n",
    "\n",
    "\n",
    "# url to access\n",
    "url = 'https://play.google.com/store/apps/details?id=com.peopulley.qpicker.android&showAllReviews=true'\n",
    "\n",
    "# Chrome driver path\n",
    "service = Service('/path/to/chromedriver')\n",
    "\n",
    "# Chrome Open\n",
    "service.start()\n",
    "driver = webdriver.Remote(service.service_url)\n",
    "\n",
    "\n",
    "# access the url\n",
    "driver.get(url);\n",
    "\n",
    "time.sleep(3) # Let the user actually see something!\n",
    "\n",
    "more = '//*[@id=\"root\"]/div/section/div/div[8]'\n",
    "element = WebDriverWait(driver, 1).until(EC.presence_of_element_located((By.XPATH, more)))\n",
    "loc = element.location['y']\n",
    "driver.execute_script(f\"window.scrollTo(0, {loc})\")\n",
    "time.sleep(0.2)\n",
    "\n",
    "# name = driver.find_elements_by_xpath(\"//span[@class='X5PpBb']\")\n",
    "# name.text\n",
    "# len(name)\n",
    "\n",
    "# date = driver.find_elements_by_xpath(\"//span[@class='bp9Aid']\")\n",
    "# date.text\n",
    "# len(date)\n",
    "\n",
    "# star = driver.find_element_by_xpath(\"//span[@class='EGFGHd']/div[@class='Jx4nYe']/div[@role='img']\")\n",
    "# star.get_attribute('aria-label')\n",
    "\n",
    "# like = ddriver.find_element_by_xpath(\"//div[@class='AJTPZc']/span[@jsname='J0d7Yd']\")\n",
    "# like.text\n",
    "# len(like)\n",
    "\n",
    "# reviews = driver.find_element(By.XPATH, \"//span[@class='h3YV2d']\")\n",
    "# reviews.text\n",
    "# len(reviews)\n",
    "\n",
    "# quit the Chorme\n",
    "driver.quit()"
   ]
  },
  {
   "cell_type": "markdown",
   "id": "954c428f",
   "metadata": {},
   "source": [
    "# Library"
   ]
  },
  {
   "cell_type": "code",
   "execution_count": 1,
   "id": "69098d39",
   "metadata": {
    "ExecuteTime": {
     "end_time": "2023-04-24T06:23:43.612499Z",
     "start_time": "2023-04-24T06:23:38.358529Z"
    }
   },
   "outputs": [],
   "source": [
    "import os\n",
    "import sys\n",
    "\n",
    "import time\n",
    "import selenium\n",
    "from selenium import webdriver\n",
    "from selenium.webdriver.chrome.service import Service\n",
    "from selenium.webdriver import ActionChains\n",
    "\n",
    "from selenium.webdriver.common.by import By\n",
    "from selenium.webdriver.common.keys import Keys\n",
    "\n",
    "from selenium.webdriver.support.wait import WebDriverWait\n",
    "from selenium.webdriver.support import expected_conditions as EC\n",
    "from selenium.webdriver.support.ui import Select\n",
    "\n",
    "\n",
    "import pandas as pd\n",
    "import numpy as np\n",
    "import matplotlib.pyplot as plt\n",
    "import seaborn as sns\n",
    "from pymongo import MongoClient"
   ]
  },
  {
   "cell_type": "code",
   "execution_count": 2,
   "id": "2134c681",
   "metadata": {
    "ExecuteTime": {
     "end_time": "2023-04-24T06:23:43.628490Z",
     "start_time": "2023-04-24T06:23:43.615479Z"
    }
   },
   "outputs": [],
   "source": [
    "# Chrome driver path\n",
    "service = Service('/path/to/chromedriver')\n",
    "\n",
    "# url to access\n",
    "url = 'https://play.google.com/store/apps/details?id=com.peopulley.qpicker.android&showAllReviews=true'"
   ]
  },
  {
   "cell_type": "code",
   "execution_count": 12,
   "id": "810fe879",
   "metadata": {
    "ExecuteTime": {
     "end_time": "2023-04-24T12:51:17.172395Z",
     "start_time": "2023-04-24T12:51:08.988139Z"
    }
   },
   "outputs": [
    {
     "name": "stdout",
     "output_type": "stream",
     "text": [
      "Google 사용자\n",
      "\n",
      "2019년 11월 27일\n",
      "예술에 문외한이라 설명 없이 작품 보기 힘든데, 정말 좋은 어플인 것 같아요! 더 좋아졌으면 하는 바람에서 기존 앱에서 수정되었으면 하는 부분에 대한 의견 남깁니다 :) 1) 다운로드 한 컨텐츠 네트워크에 연결되어 있어야 다운로드한 컨텐츠 보관함에 들어갈 수 있어요..ㅠ 그런 거 없이 오프라인 상태로 앱에 접속하면 다운로드 함으로 이동할 수 있도록 보완되면 좋을 것 같습니다. 2) 루트 따라 듣기 루트 따라 듣기를 하면, 화변 아래쪽에 컨트롤러가 뜨는데, 일반 음악 플래이어처럼 분초가 표시되면 더 편할 것 같아요. 사실 루트따라 듣기는 한 파트가 짧아서 큰 불편함은 없어요. (오히려 분초 표시가 안 되어있는 게 시간도 덜 신경쓰고 실제 도슨트 전시해설 듣는 기분이 드는 것도 같네요ㅎㅎ) 좋은 어플 만들어주셔서 감사합니다!\n"
     ]
    }
   ],
   "source": [
    "# Chrome Open\n",
    "service.start()\n",
    "driver = webdriver.Remote(service.service_url)\n",
    "\n",
    "# access the url\n",
    "driver.get(url);\n",
    "driver.implicitly_wait(time_to_wait=5)\n",
    "\n",
    "more = '//*[@id=\"yDmH0d\"]/c-wiz[2]/div/div/div[1]/div[2]/div/div[1]/c-wiz[4]/section/div/div/div[5]/div/div/button/span'\n",
    "more2 = '//*[@id=\"yDmH0d\"]/div[4]/div[2]/div/div/div/div'\n",
    "\n",
    "driver.find_element(By.XPATH, more).click()\n",
    "driver.implicitly_wait(time_to_wait=5)\n",
    "\n",
    "driver.find_element(By.XPATH, more2).click()\n",
    "driver.implicitly_wait(time_to_wait=5)\n",
    "\n",
    "nm = '//*[@id=\"yDmH0d\"]/div[4]/div[2]/div/div/div/div/div[2]/div/div[1]/div[1]/header/div[1]/div[1]/div'\n",
    "st = '//*[@id=\"yDmH0d\"]/div[4]/div[2]/div/div/div/div/div[2]/div/div[1]/div[1]/header/div[2]/div'\n",
    "dt = '//*[@id=\"yDmH0d\"]/div[4]/div[2]/div/div/div/div/div[2]/div/div[1]/div[1]/header/div[2]/span'\n",
    "re = '//*[@id=\"yDmH0d\"]/div[4]/div[2]/div/div/div/div/div[2]/div/div[1]/div[1]/div[1]'\n",
    "\n",
    "name = WebDriverWait(driver, 5).until(EC.presence_of_element_located\n",
    "                                      ((By.XPATH, nm))).text\n",
    "\n",
    "star = WebDriverWait(driver, 5).until(EC.presence_of_element_located\n",
    "                                      ((By.XPATH, st))).text\n",
    "\n",
    "date = WebDriverWait(driver, 5).until(EC.presence_of_element_located\n",
    "                                      ((By.XPATH, dt))).text\n",
    "\n",
    "review = WebDriverWait(driver, 5).until(EC.presence_of_element_located\n",
    "                                      ((By.XPATH, re))).text\n",
    "\n",
    "\n",
    "print(name)\n",
    "print(star)\n",
    "print(date)\n",
    "print(review)\n",
    "\n",
    "driver.quit()"
   ]
  },
  {
   "cell_type": "code",
   "execution_count": 38,
   "id": "d745fd4c",
   "metadata": {
    "ExecuteTime": {
     "end_time": "2023-04-24T13:29:39.486572Z",
     "start_time": "2023-04-24T13:28:38.796535Z"
    }
   },
   "outputs": [
    {
     "name": "stdout",
     "output_type": "stream",
     "text": [
      "108\n",
      "\n",
      "\n",
      "MINGOO KIM\n",
      "Google 사용자\n",
      "양찬주\n",
      "MINGOO KIM\n",
      "Hyeihn Jeon\n",
      "안하나\n",
      "쇼콜라민트\n",
      "Google 사용자\n",
      "Google 사용자\n",
      "성진\n",
      "AAA K\n",
      "Michael Kwon\n",
      "Yuju Daju\n",
      "sb yoon\n",
      "Jahye lee\n",
      "단츄\n",
      "Google 사용자\n",
      "문수정\n",
      "익명\n",
      "버즈\n",
      "임세진\n",
      "Michael Mannix\n",
      "Lil Opus\n",
      "All about CREDY\n",
      "김혜진\n",
      "히히헤헤\n",
      "홍종우\n",
      "유저바이러스\n",
      "동글동글\n",
      "Judy Kim\n",
      "김혜린\n",
      "Y.E. Song\n",
      "Iryn Lee\n",
      "영영\n",
      "Google 사용자\n",
      "jiseung kang\n",
      "Rri Ggi\n",
      "박인희\n",
      "Minjung Kim\n",
      "바니\n",
      "ohoh oh\n",
      "Google 사용자\n",
      "안병준\n",
      "Google 사용자\n",
      "성오최\n",
      "Google 사용자\n",
      "Jieun Lee\n",
      "Hang Su Cho\n",
      "박수진\n",
      "Google 사용자\n",
      "공지연\n",
      "Sim Han\n",
      "매일\n",
      "zoe\n",
      "JINYOUNG SEOL\n",
      "Miny J\n",
      "Google 사용자\n",
      "Minjung Park\n",
      "Google 사용자\n",
      "ㅊㅇㅈ\n",
      "Woo\n",
      "Woo Taylor\n",
      "YEON99\n",
      "Google 사용자\n",
      "Google 사용자\n",
      "Google 사용자\n",
      "DoYeon Kim\n",
      "Google 사용자\n",
      "Google 사용자\n",
      "Google 사용자\n",
      "알콩달콩\n",
      "송채정\n",
      "더힐링월드증산도\n",
      "Tom Willy\n",
      "Google 사용자\n",
      "Anny Oh\n",
      "won\n",
      "이광호\n",
      "이수경 (칼리)\n",
      "Ert Kin\n",
      "김수진\n",
      "sujeong kim\n",
      "주진숙\n",
      "Google 사용자\n",
      "Google 사용자\n",
      "SangJun Kim\n",
      "조응\n",
      "로빙화\n",
      "Google 사용자\n",
      "이꿍\n",
      "Google 사용자\n",
      "Jin Jeong\n",
      "썬도그\n",
      "이윤희\n",
      "홍유정\n",
      "ᄋᄋᄎ\n",
      "Seungmin Yeon\n",
      "Google 사용자\n",
      "은우은소\n",
      "Ri A\n",
      "Seojin Kim\n",
      "박선화\n",
      "연제광\n",
      "Google 사용자\n",
      "슈걸tv\n",
      "Google 사용자\n"
     ]
    }
   ],
   "source": [
    "# Chrome Open\n",
    "service.start()\n",
    "driver = webdriver.Remote(service.service_url)\n",
    "\n",
    "# access the url\n",
    "driver.get(url);\n",
    "driver.implicitly_wait(time_to_wait=5)\n",
    "driver.save_screenshot('open_browser.png')\n",
    "\n",
    "more = '//*[@id=\"yDmH0d\"]/c-wiz[2]/div/div/div[1]/div[2]/div/div[1]/c-wiz[4]/section/div/div/div[5]/div/div/button/span'\n",
    "more2 = '//*[@id=\"yDmH0d\"]/div[4]/div[2]/div/div/div/div'\n",
    "\n",
    "driver.find_element(By.XPATH, more).click()\n",
    "driver.implicitly_wait(time_to_wait=5)\n",
    "\n",
    "driver.find_element(By.XPATH, more2).click()\n",
    "driver.implicitly_wait(time_to_wait=5)\n",
    "\n",
    "driver.save_screenshot('click_more_butten.png')\n",
    "\n",
    "body = driver.find_element(By.CSS_SELECTOR, 'body')\n",
    "\n",
    "nm = 'X5PpBb'\n",
    "st = 'iXRFPc'\n",
    "dt = 'bp9Aid'\n",
    "re = 'h3YV2d'\n",
    "\n",
    "for _ in range(5):\n",
    "    name = driver.find_elements(By.CLASS_NAME, nm)\n",
    "    # star = driver.find_elements(By.CLASS_NAME, st)\n",
    "    date = driver.find_element(By.CLASS_NAME, dt)\n",
    "    review = driver.find_element(By.CLASS_NAME, re)\n",
    "    \n",
    "    a = 'pagedown' + str(_) + '.png'\n",
    "    driver.save_screenshot(a)\n",
    "    \n",
    "    for i in range(20):\n",
    "        body.send_keys(Keys.PAGE_DOWN)\n",
    "        time.sleep(0.1)\n",
    "    time.sleep(2)\n",
    "\n",
    "\n",
    "print(len(name))\n",
    "\n",
    "for name in name:\n",
    "    print(name.text)\n",
    "    # print(star.text)\n",
    "    # print(date.text)\n",
    "    # print(review.text)\n",
    "    \n",
    "driver.quit()"
   ]
  },
  {
   "cell_type": "code",
   "execution_count": 51,
   "id": "decc7872",
   "metadata": {
    "ExecuteTime": {
     "end_time": "2023-04-22T07:49:44.294832Z",
     "start_time": "2023-04-22T07:49:25.741645Z"
    }
   },
   "outputs": [
    {
     "name": "stdout",
     "output_type": "stream",
     "text": [
      "MINGOO KIM\n"
     ]
    }
   ],
   "source": [
    "# Chrome Open\n",
    "service.start()\n",
    "driver = webdriver.Remote(service.service_url)\n",
    "\n",
    "# access the url\n",
    "driver.get(url);\n",
    "driver.implicitly_wait(time_to_wait=5)\n",
    "\n",
    "\n",
    "more = '//*[@id=\"yDmH0d\"]/c-wiz[2]/div/div/div[1]/div[2]/div/div[1]/c-wiz[4]/section/div/div/div[5]/div/div/button/span'\n",
    "driver.find_element(By.XPATH, more).click()\n",
    "time.sleep(1)\n",
    "\n",
    "more2 = '//*[@id=\"yDmH0d\"]/div[4]/div[2]/div/div/div/div'\n",
    "driver.find_element(By.XPATH, more2).click()\n",
    "time.sleep(2)\n",
    "\n",
    "body = driver.find_element(By.CSS_SELECTOR, 'body')\n",
    "\n",
    "CN = ['X5PpBb', 'iXRFPc', 'bp9Aid', 'h3YV2d']\n",
    "\n",
    "for i in range(1):\n",
    "    name = driver.find_element(By.CLASS_NAME, CN[0])\n",
    "    print(name.text)\n",
    "    for i in range(20):\n",
    "        body.send_keys(Keys.PAGE_DOWN)\n",
    "        time.sleep(0.1)\n",
    "    time.sleep(2)\n",
    "\n",
    "driver.quit()"
   ]
  },
  {
   "cell_type": "code",
   "execution_count": null,
   "id": "473a8371",
   "metadata": {},
   "outputs": [],
   "source": []
  },
  {
   "cell_type": "code",
   "execution_count": null,
   "id": "18e57508",
   "metadata": {},
   "outputs": [],
   "source": []
  },
  {
   "cell_type": "code",
   "execution_count": null,
   "id": "d88d1a80",
   "metadata": {},
   "outputs": [],
   "source": []
  },
  {
   "cell_type": "code",
   "execution_count": null,
   "id": "21def682",
   "metadata": {},
   "outputs": [],
   "source": []
  },
  {
   "cell_type": "code",
   "execution_count": null,
   "id": "938adcd9",
   "metadata": {},
   "outputs": [],
   "source": []
  },
  {
   "cell_type": "code",
   "execution_count": null,
   "id": "08ad42e2",
   "metadata": {},
   "outputs": [],
   "source": []
  },
  {
   "cell_type": "code",
   "execution_count": null,
   "id": "541ddeac",
   "metadata": {},
   "outputs": [],
   "source": []
  },
  {
   "cell_type": "code",
   "execution_count": null,
   "id": "e37d066d",
   "metadata": {},
   "outputs": [],
   "source": []
  },
  {
   "cell_type": "code",
   "execution_count": null,
   "id": "e4f0276c",
   "metadata": {},
   "outputs": [],
   "source": []
  }
 ],
 "metadata": {
  "kernelspec": {
   "display_name": "Python 3",
   "language": "python",
   "name": "python3"
  },
  "language_info": {
   "codemirror_mode": {
    "name": "ipython",
    "version": 3
   },
   "file_extension": ".py",
   "mimetype": "text/x-python",
   "name": "python",
   "nbconvert_exporter": "python",
   "pygments_lexer": "ipython3",
   "version": "3.8.8"
  }
 },
 "nbformat": 4,
 "nbformat_minor": 5
}
